{
 "cells": [
  {
   "cell_type": "code",
   "execution_count": 1,
   "metadata": {
    "collapsed": true
   },
   "outputs": [],
   "source": [
    "import numpy as np \n",
    "from cvxpy import * \n",
    "import scipy as scipy\n",
    "import matplotlib.pylab as plt"
   ]
  },
  {
   "cell_type": "code",
   "execution_count": 2,
   "metadata": {},
   "outputs": [
    {
     "data": {
      "text/plain": [
       "array([[ 1, -1,  0,  0, -1,  0],\n",
       "       [ 0,  1, -1,  0,  0,  0],\n",
       "       [ 0,  0,  1, -1,  0,  1],\n",
       "       [ 0,  0,  0,  0,  1, -1]])"
      ]
     },
     "execution_count": 2,
     "metadata": {},
     "output_type": "execute_result"
    }
   ],
   "source": [
    "S = scipy.linalg.toeplitz([1, 0, 0, 0], [1, -1, 0, 0, -1, 0])\n",
    "S[:,3] = [0, 0, -1, 0]\n",
    "S[:,4] = [-1, 0, 0, 1]\n",
    "S[:,5] = [0, 0, 1, -1]\n",
    "S"
   ]
  },
  {
   "cell_type": "code",
   "execution_count": 3,
   "metadata": {},
   "outputs": [
    {
     "data": {
      "text/plain": [
       "array([0, 0, 0, 0])"
      ]
     },
     "execution_count": 3,
     "metadata": {},
     "output_type": "execute_result"
    }
   ],
   "source": [
    "S.dot([2, 1, 1, 2, 1, 1])"
   ]
  },
  {
   "cell_type": "code",
   "execution_count": 4,
   "metadata": {},
   "outputs": [
    {
     "data": {
      "text/plain": [
       "array([0, 0, 0, 0])"
      ]
     },
     "execution_count": 4,
     "metadata": {},
     "output_type": "execute_result"
    }
   ],
   "source": [
    "S.dot([1, 1, 1, 1, 0, 0])\n",
    "S.dot([0, -1, -1, 0, 1, 1])"
   ]
  },
  {
   "cell_type": "code",
   "execution_count": 5,
   "metadata": {},
   "outputs": [
    {
     "data": {
      "text/plain": [
       "matrix([[ 1, -1,  0,  0, -1,  0, -1],\n",
       "        [ 0,  1, -1,  0,  0,  0,  0],\n",
       "        [ 0,  0,  1, -1,  0,  1,  1],\n",
       "        [ 0,  0,  0,  0,  1, -1,  0]])"
      ]
     },
     "execution_count": 5,
     "metadata": {},
     "output_type": "execute_result"
    }
   ],
   "source": [
    "S2 = np.append(S, np.matrix([-1, 0, 1, 0]).T, 1)\n",
    "S2      "
   ]
  },
  {
   "cell_type": "markdown",
   "metadata": {},
   "source": [
    "# Computing null(S)"
   ]
  },
  {
   "cell_type": "code",
   "execution_count": 14,
   "metadata": {},
   "outputs": [
    {
     "data": {
      "text/plain": [
       "(6, 6)"
      ]
     },
     "execution_count": 14,
     "metadata": {},
     "output_type": "execute_result"
    }
   ],
   "source": [
    "# Palsson pg.186 \n",
    "U, D, V = scipy.linalg.svd(S)\n",
    "\n",
    "V.shape"
   ]
  },
  {
   "cell_type": "code",
   "execution_count": null,
   "metadata": {
    "collapsed": true
   },
   "outputs": [],
   "source": []
  },
  {
   "cell_type": "markdown",
   "metadata": {},
   "source": [
    "# Optimization Problem\n",
    "\n",
    "http://cvxopt.org/examples/tutorial/lp.html\n",
    "\n",
    "http://nbviewer.jupyter.org/github/cvxgrp/cvxpy/blob/master/examples/notebooks/WWW/sparse_solution.ipynb"
   ]
  },
  {
   "cell_type": "code",
   "execution_count": 4,
   "metadata": {
    "collapsed": true
   },
   "outputs": [],
   "source": [
    "# Construct the problem.\n",
    "n = 6\n",
    "f = Variable(n)\n",
    "\n",
    "# constraint on the fluxes.\n",
    "constraints = [0 <= f, f <= 1, S*f == 0]"
   ]
  },
  {
   "cell_type": "code",
   "execution_count": 5,
   "metadata": {
    "collapsed": true
   },
   "outputs": [],
   "source": [
    "# objective flux defined by the wieghts in c. \n",
    "c = np.matrix([1.0, 1.0, 1.0, 1.0, 1.0, 1.0]) \n",
    "objective = Maximize(c*f)"
   ]
  },
  {
   "cell_type": "code",
   "execution_count": 6,
   "metadata": {},
   "outputs": [
    {
     "name": "stdout",
     "output_type": "stream",
     "text": [
      "status: optimal\n"
     ]
    }
   ],
   "source": [
    "prob = Problem(objective, constraints)\n",
    "prob.solve()\n",
    "print( \"status:\", prob.status)"
   ]
  },
  {
   "cell_type": "code",
   "execution_count": 7,
   "metadata": {},
   "outputs": [
    {
     "name": "stdout",
     "output_type": "stream",
     "text": [
      "optim val: \n",
      " 3.99999999979778 \n",
      " optim. flux:\n",
      " [[ 1. ]\n",
      " [ 0.5]\n",
      " [ 0.5]\n",
      " [ 1. ]\n",
      " [ 0.5]\n",
      " [ 0.5]]\n"
     ]
    }
   ],
   "source": [
    "# The steady state solution divides the flux into two halves. \n",
    "print('optim val: \\n', prob.value, '\\n optim. flux:\\n', f.value)"
   ]
  },
  {
   "cell_type": "code",
   "execution_count": 10,
   "metadata": {},
   "outputs": [
    {
     "data": {
      "text/plain": [
       "array([[ 1. ],\n",
       "       [ 0.5],\n",
       "       [ 0.5],\n",
       "       [ 1. ],\n",
       "       [ 0.5],\n",
       "       [ 0.5]])"
      ]
     },
     "execution_count": 10,
     "metadata": {},
     "output_type": "execute_result"
    }
   ],
   "source": [
    "f.value.item(0)\n",
    "np.array(f.value)"
   ]
  },
  {
   "cell_type": "markdown",
   "metadata": {},
   "source": [
    "# Drawing a network"
   ]
  },
  {
   "cell_type": "code",
   "execution_count": 83,
   "metadata": {
    "collapsed": true
   },
   "outputs": [],
   "source": [
    "import networkx as nx"
   ]
  },
  {
   "cell_type": "code",
   "execution_count": 84,
   "metadata": {},
   "outputs": [
    {
     "data": {
      "text/plain": [
       "[0.9999999999494443,\n",
       " 0.5000000002328995,\n",
       " 0.5000000002328995,\n",
       " 0.49999999971654624,\n",
       " 0.9999999999494443,\n",
       " 0.49999999971654624]"
      ]
     },
     "execution_count": 84,
     "metadata": {},
     "output_type": "execute_result"
    }
   ],
   "source": [
    "# Encontrar una buena forma de notar la red para que coincida con los resultados de la optim.\n",
    "fv = [v.item() for v in f.value]\n",
    "temp = fv[3]\n",
    "fv[3] = fv[4]\n",
    "fv[4] = temp\n",
    "fv"
   ]
  },
  {
   "cell_type": "code",
   "execution_count": 85,
   "metadata": {},
   "outputs": [
    {
     "data": {
      "text/plain": [
       "[(0, 1, {'weight': 0.9999999999494443}),\n",
       " (1, 2, {'weight': 0.5000000002328995}),\n",
       " (1, 4, {'weight': 0.5000000002328995}),\n",
       " (2, 3, {'weight': 0.49999999971654624}),\n",
       " (3, 5, {'weight': 0.9999999999494443}),\n",
       " (4, 3, {'weight': 0.49999999971654624})]"
      ]
     },
     "execution_count": 85,
     "metadata": {},
     "output_type": "execute_result"
    }
   ],
   "source": [
    "i = 0\n",
    "for (u,v,d) in DNet.edges(data=True):\n",
    "    DNet[u][v]['weight'] = fv[i] \n",
    "    i = i + 1\n",
    "\n",
    "[(u, v, d) for (u,v,d) in DNet.edges(data=True)]"
   ]
  },
  {
   "cell_type": "code",
   "execution_count": 86,
   "metadata": {},
   "outputs": [
    {
     "data": {
      "text/plain": [
       "[4.999999999747222,\n",
       " 2.5000000011644974,\n",
       " 2.5000000011644974,\n",
       " 2.499999998582731,\n",
       " 4.999999999747222,\n",
       " 2.499999998582731]"
      ]
     },
     "execution_count": 86,
     "metadata": {},
     "output_type": "execute_result"
    }
   ],
   "source": [
    "weights = [5*DNet[u][v]['weight'] for (u,v,d) in DNet.edges(data=True)]\n",
    "weights"
   ]
  },
  {
   "cell_type": "code",
   "execution_count": 87,
   "metadata": {},
   "outputs": [
    {
     "data": {
      "image/png": "[encoded data removed]",
      "text/plain": [
       "<matplotlib.figure.Figure at 0x82852483c8>"
      ]
     },
     "metadata": {},
     "output_type": "display_data"
    }
   ],
   "source": [
    "# https://stackoverflow.com/questions/29838746/how-to-draw-subgraph-using-networkx\n",
    "edgelist=[(0,1), (1,2), (2,3), (1,4), (4,3), (3,5)]\n",
    "DNet = nx.DiGraph(edgelist)\n",
    "\n",
    "#nx.draw(DNet, with_labels=True)\n",
    "pos = nx.spring_layout(DNet)\n",
    "H = DNet.subgraph([1,2,3,4])\n",
    "nodes = nx.draw_networkx_nodes(H, pos=pos)\n",
    "edges = nx.draw_networkx_edges(DNet, pos=pos, width=weights, arrows=False) # without arrows seems better\n",
    "nx.draw(H, pos=pos, with_labels=True)\n",
    "\n",
    "plt.show()"
   ]
  },
  {
   "cell_type": "markdown",
   "metadata": {},
   "source": [
    "# Sampling a parallelepiped"
   ]
  },
  {
   "cell_type": "code",
   "execution_count": null,
   "metadata": {
    "collapsed": true
   },
   "outputs": [],
   "source": []
  }
 ],
 "metadata": {
  "anaconda-cloud": {},
  "kernelspec": {
   "display_name": "Python 3",
   "language": "python",
   "name": "python3"
  },
  "language_info": {
   "codemirror_mode": {
    "name": "ipython",
    "version": 3
   },
   "file_extension": ".py",
   "mimetype": "text/x-python",
   "name": "python",
   "nbconvert_exporter": "python",
   "pygments_lexer": "ipython3",
   "version": "3.6.2"
  }
 },
 "nbformat": 4,
 "nbformat_minor": 1
}
