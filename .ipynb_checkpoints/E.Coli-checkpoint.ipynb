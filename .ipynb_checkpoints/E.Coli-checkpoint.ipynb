{
 "cells": [
  {
   "cell_type": "markdown",
   "metadata": {},
   "source": [
    "# Tutorial\n",
    "\n",
    "http://cobrapy.readthedocs.io/en/latest/getting_started.html"
   ]
  },
  {
   "cell_type": "code",
   "execution_count": 41,
   "metadata": {
    "collapsed": true
   },
   "outputs": [],
   "source": [
    "import cobra\n",
    "import cobra.test\n",
    "\n",
    "# \"ecoli\" and \"salmonella\" are also valid arguments\n",
    "# textbook is ecoli core. \n",
    "model = cobra.test.create_test_model(\"textbook\")"
   ]
  },
  {
   "cell_type": "code",
   "execution_count": 44,
   "metadata": {},
   "outputs": [
    {
     "data": {
      "text/plain": [
       "<Model e_coli_core at 0xb8fcfb1d68>"
      ]
     },
     "execution_count": 44,
     "metadata": {},
     "output_type": "execute_result"
    }
   ],
   "source": [
    "model"
   ]
  },
  {
   "cell_type": "code",
   "execution_count": 2,
   "metadata": {},
   "outputs": [
    {
     "name": "stdout",
     "output_type": "stream",
     "text": [
      "95\n",
      "72\n",
      "137\n"
     ]
    }
   ],
   "source": [
    "print(len(model.reactions))\n",
    "print(len(model.metabolites))\n",
    "print(len(model.genes))"
   ]
  },
  {
   "cell_type": "code",
   "execution_count": 3,
   "metadata": {},
   "outputs": [
    {
     "data": {
      "text/plain": [
       "<Metabolite atp_c at 0x25e7936898>"
      ]
     },
     "execution_count": 3,
     "metadata": {},
     "output_type": "execute_result"
    }
   ],
   "source": [
    "# get metabolites by id\n",
    "model.metabolites.get_by_id(\"atp_c\")"
   ]
  },
  {
   "cell_type": "markdown",
   "metadata": {},
   "source": [
    "# Reactions"
   ]
  },
  {
   "cell_type": "code",
   "execution_count": 4,
   "metadata": {},
   "outputs": [
    {
     "name": "stdout",
     "output_type": "stream",
     "text": [
      "glucose-6-phosphate isomerase\n",
      "g6p_c <=> f6p_c\n"
     ]
    }
   ],
   "source": [
    "# get a reaction by its id\n",
    "pgi = model.reactions.get_by_id(\"PGI\")\n",
    "\n",
    "print(pgi.name)\n",
    "print(pgi.reaction)"
   ]
  },
  {
   "cell_type": "code",
   "execution_count": 7,
   "metadata": {},
   "outputs": [
    {
     "data": {
      "text/plain": [
       "(-1000.0, 1000.0)"
      ]
     },
     "execution_count": 7,
     "metadata": {},
     "output_type": "execute_result"
    }
   ],
   "source": [
    "# upper and lower bounds (qué quire decir?)\n",
    "pgi.bounds"
   ]
  },
  {
   "cell_type": "code",
   "execution_count": 8,
   "metadata": {},
   "outputs": [
    {
     "name": "stdout",
     "output_type": "stream",
     "text": [
      "R acetaldehyde reversible - transport\n",
      "acald_e <=> acald_c\n"
     ]
    }
   ],
   "source": [
    "print(model.reactions[1].name)\n",
    "print(model.reactions[1].reaction)"
   ]
  },
  {
   "cell_type": "code",
   "execution_count": 9,
   "metadata": {},
   "outputs": [
    {
     "data": {
      "text/plain": [
       "{}"
      ]
     },
     "execution_count": 9,
     "metadata": {},
     "output_type": "execute_result"
    }
   ],
   "source": [
    "# check mass balance\n",
    "pgi.check_mass_balance()\n",
    "\n",
    "# no violations"
   ]
  },
  {
   "cell_type": "code",
   "execution_count": 10,
   "metadata": {},
   "outputs": [
    {
     "data": {
      "text/plain": [
       "'g6p_c + h_c <=> f6p_c'"
      ]
     },
     "execution_count": 10,
     "metadata": {},
     "output_type": "execute_result"
    }
   ],
   "source": [
    "# add a metabolite/ + 2 proton\n",
    "pgi.add_metabolites({model.metabolites.get_by_id(\"h_c\"): -1})\n",
    "pgi.reaction"
   ]
  },
  {
   "cell_type": "code",
   "execution_count": 11,
   "metadata": {},
   "outputs": [
    {
     "data": {
      "text/plain": [
       "{'H': -1.0, 'charge': -1.0}"
      ]
     },
     "execution_count": 11,
     "metadata": {},
     "output_type": "execute_result"
    }
   ],
   "source": [
    "# 1 proton \n",
    "pgi.check_mass_balance()\n"
   ]
  },
  {
   "cell_type": "code",
   "execution_count": 85,
   "metadata": {},
   "outputs": [
    {
     "name": "stdout",
     "output_type": "stream",
     "text": [
      "g6p_c <=> f6p_c + h_c\n",
      "{'H': 1.0, 'charge': 1.0}\n"
     ]
    }
   ],
   "source": [
    "# can remove +2 proton\n",
    "pgi.subtract_metabolites({model.metabolites.get_by_id(\"h_c\"): -1})\n",
    "print(pgi.reaction)\n",
    "print(pgi.check_mass_balance())"
   ]
  },
  {
   "cell_type": "code",
   "execution_count": 13,
   "metadata": {},
   "outputs": [
    {
     "name": "stdout",
     "output_type": "stream",
     "text": [
      "unknown metabolite 'green_eggs' created\n",
      "unknown metabolite 'ham' created\n"
     ]
    }
   ],
   "source": [
    "# adding a reaction \n",
    "pgi.reaction = \"g6p_c --> f6p_c + h_c + green_eggs + ham\""
   ]
  },
  {
   "cell_type": "code",
   "execution_count": 14,
   "metadata": {},
   "outputs": [
    {
     "name": "stdout",
     "output_type": "stream",
     "text": [
      "g6p_c --> f6p_c + green_eggs + h_c + ham\n",
      "g6p_c <=> f6p_c\n"
     ]
    }
   ],
   "source": [
    "print(pgi.reaction)\n",
    "pgi.reaction = \"g6p_c <=> f6p_c\"\n",
    "print(pgi.reaction)"
   ]
  },
  {
   "cell_type": "markdown",
   "metadata": {},
   "source": [
    "# Meatbolites"
   ]
  },
  {
   "cell_type": "code",
   "execution_count": 15,
   "metadata": {},
   "outputs": [
    {
     "data": {
      "text/plain": [
       "<Metabolite atp_c at 0x721fd354a8>"
      ]
     },
     "execution_count": 15,
     "metadata": {},
     "output_type": "execute_result"
    }
   ],
   "source": [
    "atp = model.metabolites.get_by_id(\"atp_c\")\n",
    "atp"
   ]
  },
  {
   "cell_type": "code",
   "execution_count": 16,
   "metadata": {},
   "outputs": [
    {
     "name": "stdout",
     "output_type": "stream",
     "text": [
      "ATP\n",
      "c\n",
      "-4\n",
      "C10H12N5O13P3\n"
     ]
    }
   ],
   "source": [
    "print(atp.name)\n",
    "print(atp.compartment)\n",
    "print(atp.charge)\n",
    "print(atp.formula)"
   ]
  },
  {
   "cell_type": "code",
   "execution_count": 17,
   "metadata": {},
   "outputs": [
    {
     "name": "stdout",
     "output_type": "stream",
     "text": [
      "13\n"
     ]
    },
    {
     "data": {
      "text/plain": [
       "frozenset({<Reaction PFK at 0x7220170630>,\n",
       "           <Reaction GLNS at 0x7220168048>,\n",
       "           <Reaction ADK1 at 0x7220153c50>,\n",
       "           <Reaction SUCOAS at 0x722017a080>,\n",
       "           <Reaction PPCK at 0x72201754a8>,\n",
       "           <Reaction PGK at 0x7220170ac8>,\n",
       "           <Reaction Biomass_Ecoli_core at 0x72201584e0>,\n",
       "           <Reaction ATPM at 0x7220158518>,\n",
       "           <Reaction ATPS4r at 0x7220158128>,\n",
       "           <Reaction ACKr at 0x7220153940>,\n",
       "           <Reaction GLNabc at 0x7220168198>,\n",
       "           <Reaction PYK at 0x72201757b8>,\n",
       "           <Reaction PPS at 0x72201755c0>})"
      ]
     },
     "execution_count": 17,
     "metadata": {},
     "output_type": "execute_result"
    }
   ],
   "source": [
    "# this metabolite appears in \n",
    "print(len(atp.reactions))\n",
    "atp.reactions"
   ]
  },
  {
   "cell_type": "markdown",
   "metadata": {},
   "source": [
    "# Genes"
   ]
  },
  {
   "cell_type": "code",
   "execution_count": 18,
   "metadata": {},
   "outputs": [
    {
     "data": {
      "text/plain": [
       "'b4025'"
      ]
     },
     "execution_count": 18,
     "metadata": {},
     "output_type": "execute_result"
    }
   ],
   "source": [
    "gpr = pgi.gene_reaction_rule\n",
    "gpr"
   ]
  },
  {
   "cell_type": "code",
   "execution_count": 19,
   "metadata": {},
   "outputs": [
    {
     "data": {
      "text/plain": [
       "frozenset({<Gene b4025 at 0x722014ce80>})"
      ]
     },
     "execution_count": 19,
     "metadata": {},
     "output_type": "execute_result"
    }
   ],
   "source": [
    "pgi.genes"
   ]
  },
  {
   "cell_type": "code",
   "execution_count": 20,
   "metadata": {},
   "outputs": [
    {
     "data": {
      "text/plain": [
       "<Gene b4025 at 0x722014ce80>"
      ]
     },
     "execution_count": 20,
     "metadata": {},
     "output_type": "execute_result"
    }
   ],
   "source": [
    "pgi_gene = model.genes.get_by_id(\"b4025\")\n",
    "pgi_gene"
   ]
  },
  {
   "cell_type": "code",
   "execution_count": 21,
   "metadata": {},
   "outputs": [
    {
     "data": {
      "text/plain": [
       "frozenset({<Reaction PGI at 0x72201709e8>})"
      ]
     },
     "execution_count": 21,
     "metadata": {},
     "output_type": "execute_result"
    }
   ],
   "source": [
    "# reactions it catalyzes\n",
    "pgi_gene.reactions"
   ]
  },
  {
   "cell_type": "code",
   "execution_count": 22,
   "metadata": {},
   "outputs": [
    {
     "data": {
      "text/plain": [
       "frozenset({<Gene eggs at 0x72201587b8>, <Gene spam at 0x7220158c50>})"
      ]
     },
     "execution_count": 22,
     "metadata": {},
     "output_type": "execute_result"
    }
   ],
   "source": [
    "# adding new genes\n",
    "pgi.gene_reaction_rule = \"(spam or eggs)\"\n",
    "pgi.genes"
   ]
  },
  {
   "cell_type": "code",
   "execution_count": 23,
   "metadata": {},
   "outputs": [
    {
     "data": {
      "text/plain": [
       "frozenset()"
      ]
     },
     "execution_count": 23,
     "metadata": {},
     "output_type": "execute_result"
    }
   ],
   "source": [
    "# just 1 gene per reaction? \n",
    "pgi_gene.reactions"
   ]
  },
  {
   "cell_type": "code",
   "execution_count": 24,
   "metadata": {},
   "outputs": [
    {
     "data": {
      "text/plain": [
       "<Gene spam at 0x7220158c50>"
      ]
     },
     "execution_count": 24,
     "metadata": {},
     "output_type": "execute_result"
    }
   ],
   "source": [
    "# new genes are added to the model\n",
    "model.genes.get_by_id(\"spam\")"
   ]
  },
  {
   "cell_type": "code",
   "execution_count": 25,
   "metadata": {},
   "outputs": [
    {
     "name": "stdout",
     "output_type": "stream",
     "text": [
      "after 1 KO: -1000 < flux_PGI < 1000\n",
      "after 2 KO:     0 < flux_PGI <    0\n"
     ]
    }
   ],
   "source": [
    "# Deleting genes\n",
    "cobra.manipulation.delete_model_genes(\n",
    "    model, [\"spam\"], cumulative_deletions=True)\n",
    "print(\"after 1 KO: %4d < flux_PGI < %4d\" % (pgi.lower_bound, pgi.upper_bound))\n",
    "\n",
    "cobra.manipulation.delete_model_genes(\n",
    "    model, [\"eggs\"], cumulative_deletions=True)\n",
    "print(\"after 2 KO:  %4d < flux_PGI < %4d\" % (pgi.lower_bound, pgi.upper_bound))"
   ]
  },
  {
   "cell_type": "code",
   "execution_count": 26,
   "metadata": {},
   "outputs": [
    {
     "name": "stdout",
     "output_type": "stream",
     "text": [
      "-1000 < pgi < 1000\n"
     ]
    },
    {
     "data": {
      "text/plain": [
       "<Gene spam at 0x7220158c50>"
      ]
     },
     "execution_count": 26,
     "metadata": {},
     "output_type": "execute_result"
    }
   ],
   "source": [
    "cobra.manipulation.undelete_model_genes(model)\n",
    "print(pgi.lower_bound, \"< pgi <\", pgi.upper_bound)\n",
    "\n",
    "model.genes.get_by_id(\"spam\")"
   ]
  },
  {
   "cell_type": "markdown",
   "metadata": {},
   "source": [
    "# Knocking out Reactions "
   ]
  },
  {
   "cell_type": "code",
   "execution_count": 27,
   "metadata": {},
   "outputs": [
    {
     "name": "stdout",
     "output_type": "stream",
     "text": [
      "ACALD\n",
      "ACALDt\n",
      "ACKr\n",
      "ACONTa\n",
      "ACONTb\n"
     ]
    }
   ],
   "source": [
    "# copying the ecoli core would be slow. Instead in cobrapy models can be used as contexts\n",
    "model = cobra.test.create_test_model('textbook') \n",
    "for reaction in model.reactions[:5]:\n",
    "    print(reaction)"
   ]
  },
  {
   "cell_type": "code",
   "execution_count": 28,
   "metadata": {},
   "outputs": [
    {
     "name": "stdout",
     "output_type": "stream",
     "text": [
      "ACALD blocked (bounds: (0, 0)), new growth rate 0.873922\n",
      "ACALDt blocked (bounds: (0, 0)), new growth rate 0.873922\n",
      "ACKr blocked (bounds: (0, 0)), new growth rate 0.873922\n",
      "ACONTa blocked (bounds: (0, 0)), new growth rate -0.000000\n",
      "ACONTb blocked (bounds: (0, 0)), new growth rate -0.000000\n"
     ]
    }
   ],
   "source": [
    "# reversible changes. Models as contexts. \n",
    "for reaction in model.reactions[:5]:\n",
    "    with model as model:\n",
    "        reaction.knock_out()\n",
    "        model.optimize()\n",
    "        print('%s blocked (bounds: %s), new growth rate %f' %\n",
    "              (reaction.id, str(reaction.bounds), model.objective.value))"
   ]
  },
  {
   "cell_type": "code",
   "execution_count": 29,
   "metadata": {},
   "outputs": [
    {
     "data": {
      "text/plain": [
       "0.8739215069684377"
      ]
     },
     "execution_count": 29,
     "metadata": {},
     "output_type": "execute_result"
    }
   ],
   "source": [
    "# growth rate for the whole model \n",
    "model.optimize()\n",
    "model.objective.value"
   ]
  },
  {
   "cell_type": "code",
   "execution_count": 30,
   "metadata": {},
   "outputs": [
    {
     "name": "stdout",
     "output_type": "stream",
     "text": [
      "original objective:  -1.0*Biomass_Ecoli_core_reverse_2cdba + 1.0*Biomass_Ecoli_core\n",
      "print objective in first context: -1.0*ATPM_reverse_5b752 + 1.0*ATPM\n",
      "print objective in second context: 1.0*ACALD - 1.0*ACALD_reverse_fda2b\n",
      "objective after exiting second context: -1.0*ATPM_reverse_5b752 + 1.0*ATPM\n",
      "back to original objective: -1.0*Biomass_Ecoli_core_reverse_2cdba + 1.0*Biomass_Ecoli_core\n"
     ]
    }
   ],
   "source": [
    "# Example of nested contexts\n",
    "print('original objective: ', model.objective.expression)\n",
    "with model:\n",
    "    model.objective = 'ATPM'\n",
    "    print('print objective in first context:', model.objective.expression)\n",
    "    with model:\n",
    "        model.objective = 'ACALD'\n",
    "        print('print objective in second context:', model.objective.expression)\n",
    "    print('objective after exiting second context:',\n",
    "          model.objective.expression)\n",
    "print('back to original objective:', model.objective.expression)\n"
   ]
  },
  {
   "cell_type": "markdown",
   "metadata": {},
   "source": [
    "# Escher \n",
    "\n",
    "http://escher.readthedocs.io/en/stable/escher_and_cobrapy.html"
   ]
  },
  {
   "cell_type": "code",
   "execution_count": null,
   "metadata": {},
   "outputs": [
    {
     "name": "stdout",
     "output_type": "stream",
     "text": [
      "\n",
      "Note: You must interrupt the kernel to end this command\n",
      "\n",
      "Serving to http://127.0.0.1:7655/\n",
      "[Ctrl-C to exit from terminal, or Ctrl-M i i to interrupt notebook kernel]\n"
     ]
    },
    {
     "name": "stderr",
     "output_type": "stream",
     "text": [
      "127.0.0.1 - - [15/Aug/2017 16:07:12] \"GET / HTTP/1.1\" 200 -\n"
     ]
    }
   ],
   "source": [
    "from escher import Builder\n",
    "b = Builder(map_name=\"iJO1366.Central metabolism\")\n",
    "b.display_in_browser()"
   ]
  },
  {
   "cell_type": "markdown",
   "metadata": {},
   "source": [
    "# Nature tutorial\n",
    "\n",
    "http://www.nature.com/nbt/journal/v28/n3/full/nbt.1614.html\n",
    "\n",
    "https://www.ncbi.nlm.nih.gov/pmc/articles/PMC3108565/"
   ]
  },
  {
   "cell_type": "markdown",
   "metadata": {},
   "source": [
    "## 1- Computing growth rates\n",
    "\n",
    "glucose uptake under aerobic conditions "
   ]
  },
  {
   "cell_type": "code",
   "execution_count": 5,
   "metadata": {},
   "outputs": [
    {
     "data": {
      "text/plain": [
       "[<Reaction ACALD at 0xa946bbb5f8>,\n",
       " <Reaction ACALDt at 0xa946bbb898>,\n",
       " <Reaction ACKr at 0xa946bbb9b0>,\n",
       " <Reaction ACONTa at 0xa946bbbb38>,\n",
       " <Reaction ACONTb at 0xa946bbbbe0>,\n",
       " <Reaction ACt2r at 0xa946bbbb70>,\n",
       " <Reaction ADK1 at 0xa946bbbda0>,\n",
       " <Reaction AKGDH at 0xa946bbf0b8>,\n",
       " <Reaction AKGt2r at 0xa946bbf240>,\n",
       " <Reaction ALCD2x at 0xa946bbf3c8>,\n",
       " <Reaction ATPM at 0xa946bbf588>,\n",
       " <Reaction ATPS4r at 0xa946bbf278>,\n",
       " <Reaction Biomass_Ecoli_core at 0xa946bbf550>,\n",
       " <Reaction CO2t at 0xa946bbfcf8>,\n",
       " <Reaction CS at 0xa946bbfb70>,\n",
       " <Reaction CYTBD at 0xa946bbf9e8>,\n",
       " <Reaction D_LACt2 at 0xa946bbfd68>,\n",
       " <Reaction ENO at 0xa946bbffd0>,\n",
       " <Reaction ETOHt2r at 0xa946bc42e8>,\n",
       " <Reaction EX_ac_e at 0xa946bc4128>,\n",
       " <Reaction EX_acald_e at 0xa946bc4400>,\n",
       " <Reaction EX_akg_e at 0xa946bc4438>,\n",
       " <Reaction EX_co2_e at 0xa946bc4390>,\n",
       " <Reaction EX_etoh_e at 0xa946bc4550>,\n",
       " <Reaction EX_for_e at 0xa946bc45c0>,\n",
       " <Reaction EX_fru_e at 0xa946bc45f8>,\n",
       " <Reaction EX_fum_e at 0xa946bc46a0>,\n",
       " <Reaction EX_glc__D_e at 0xa946bc4710>,\n",
       " <Reaction EX_gln__L_e at 0xa946bc4780>,\n",
       " <Reaction EX_glu__L_e at 0xa946bc42b0>,\n",
       " <Reaction EX_h_e at 0xa946bc4860>,\n",
       " <Reaction EX_h2o_e at 0xa946bc4898>,\n",
       " <Reaction EX_lac__D_e at 0xa946bc4908>,\n",
       " <Reaction EX_mal__L_e at 0xa946bc49b0>,\n",
       " <Reaction EX_nh4_e at 0xa946bc48d0>,\n",
       " <Reaction EX_o2_e at 0xa946bc4a90>,\n",
       " <Reaction EX_pi_e at 0xa946bc4b00>,\n",
       " <Reaction EX_pyr_e at 0xa946bc4ba8>,\n",
       " <Reaction EX_succ_e at 0xa946bc4c50>,\n",
       " <Reaction FBA at 0xa946bc4d30>,\n",
       " <Reaction FBP at 0xa946bc4ef0>,\n",
       " <Reaction FORt2 at 0xa946bca128>,\n",
       " <Reaction FORti at 0xa946bca2b0>,\n",
       " <Reaction FRD7 at 0xa946bca240>,\n",
       " <Reaction FRUpts2 at 0xa946bca588>,\n",
       " <Reaction FUM at 0xa946bca860>,\n",
       " <Reaction FUMt2_2 at 0xa946bca908>,\n",
       " <Reaction G6PDH2r at 0xa946bcac50>,\n",
       " <Reaction GAPD at 0xa946bcae48>,\n",
       " <Reaction GLCpts at 0xa946bcaf60>,\n",
       " <Reaction GLNS at 0xa946bce0b8>,\n",
       " <Reaction GLNabc at 0xa946bce208>,\n",
       " <Reaction GLUDy at 0xa946bce5f8>,\n",
       " <Reaction GLUN at 0xa946bce828>,\n",
       " <Reaction GLUSy at 0xa946bce860>,\n",
       " <Reaction GLUt2r at 0xa946bcea90>,\n",
       " <Reaction GND at 0xa946bcec18>,\n",
       " <Reaction H2Ot at 0xa946bcedd8>,\n",
       " <Reaction ICDHyr at 0xa946bcecc0>,\n",
       " <Reaction ICL at 0xa946bd30f0>,\n",
       " <Reaction LDH_D at 0xa946bd31d0>,\n",
       " <Reaction MALS at 0xa946bd3320>,\n",
       " <Reaction MALt2_2 at 0xa946bd34a8>,\n",
       " <Reaction MDH at 0xa946bd35c0>,\n",
       " <Reaction ME1 at 0xa946bd3780>,\n",
       " <Reaction ME2 at 0xa946bd38d0>,\n",
       " <Reaction NADH16 at 0xa946bd39b0>,\n",
       " <Reaction NADTRHD at 0xa946bd3dd8>,\n",
       " <Reaction NH4t at 0xa946bd3ef0>,\n",
       " <Reaction O2t at 0xa946bd3f28>,\n",
       " <Reaction PDH at 0xa946bd74a8>,\n",
       " <Reaction PFK at 0xa946bd76a0>,\n",
       " <Reaction PFL at 0xa946bd7828>,\n",
       " <Reaction PGI at 0xa946bd7a58>,\n",
       " <Reaction PGK at 0xa946bd7b38>,\n",
       " <Reaction PGL at 0xa946bd7cf8>,\n",
       " <Reaction PGM at 0xa946bd7f98>,\n",
       " <Reaction PIt2r at 0xa946bdd0b8>,\n",
       " <Reaction PPC at 0xa946bdd2e8>,\n",
       " <Reaction PPCK at 0xa946bdd518>,\n",
       " <Reaction PPS at 0xa946bdd630>,\n",
       " <Reaction PTAr at 0xa946bdd7f0>,\n",
       " <Reaction PYK at 0xa946bdd828>,\n",
       " <Reaction PYRt2 at 0xa946bdda20>,\n",
       " <Reaction RPE at 0xa946bdd6d8>,\n",
       " <Reaction RPI at 0xa946bdd9b0>,\n",
       " <Reaction SUCCt2_2 at 0xa946bdd978>,\n",
       " <Reaction SUCCt3 at 0xa946bdde48>,\n",
       " <Reaction SUCDi at 0xa946bddf60>,\n",
       " <Reaction SUCOAS at 0xa946be20f0>,\n",
       " <Reaction TALA at 0xa946be2358>,\n",
       " <Reaction THD2 at 0xa946be24a8>,\n",
       " <Reaction TKT1 at 0xa946be2390>,\n",
       " <Reaction TKT2 at 0xa946be2668>,\n",
       " <Reaction TPI at 0xa946be21d0>]"
      ]
     },
     "execution_count": 5,
     "metadata": {},
     "output_type": "execute_result"
    }
   ],
   "source": [
    "model = cobra.test.create_test_model(\"textbook\")\n",
    "model.reactions\n",
    "# Looking for glucose uptake. Should containhave an id containing something like glc ...\n"
   ]
  },
  {
   "cell_type": "code",
   "execution_count": 12,
   "metadata": {},
   "outputs": [
    {
     "data": {
      "text/plain": [
       "{<Metabolite 6pgl_c at 0xa946aef6d8>: -1.0,\n",
       " <Metabolite h_c at 0xa946b915c0>: 1.0,\n",
       " <Metabolite 6pgc_c at 0xa946ac68d0>: 1.0,\n",
       " <Metabolite h2o_c at 0xa946b8cc50>: -1.0}"
      ]
     },
     "execution_count": 12,
     "metadata": {},
     "output_type": "execute_result"
    }
   ],
   "source": [
    "tkt1 = model.reactions.get_by_id('PGL')\n",
    "tkt1.metabolites"
   ]
  },
  {
   "cell_type": "code",
   "execution_count": 38,
   "metadata": {},
   "outputs": [
    {
     "data": {
      "text/plain": [
       "'glc__D_e <=> '"
      ]
     },
     "execution_count": 38,
     "metadata": {},
     "output_type": "execute_result"
    }
   ],
   "source": [
    "# Glucose uptake reaction \n",
    "glcDe = model.reactions.EX_glc__D_e\n",
    "# import reactions are written as export ones. So to import a metabolite, use a negative flux!\n",
    "glcDe.reaction"
   ]
  },
  {
   "cell_type": "code",
   "execution_count": 39,
   "metadata": {},
   "outputs": [
    {
     "name": "stdout",
     "output_type": "stream",
     "text": [
      "(-10.0, 1000.0)\n",
      "(-18.5, 1)\n"
     ]
    }
   ],
   "source": [
    "# Change glucose max uptake to 18.5 gDW^{-1}hr^{-1} \n",
    "print(glcDe.bounds)\n",
    "glcDe.lower_bound = -18.5\n",
    "glcDe.upper_bound = 1\n",
    "print(glcDe.bounds)"
   ]
  },
  {
   "cell_type": "code",
   "execution_count": 40,
   "metadata": {},
   "outputs": [
    {
     "data": {
      "text/plain": [
       "(-18.5, 1)"
      ]
     },
     "execution_count": 40,
     "metadata": {},
     "output_type": "execute_result"
    }
   ],
   "source": [
    "# changes are registered in the model\n",
    "model.reactions.EX_glc__D_e.bounds"
   ]
  },
  {
   "cell_type": "code",
   "execution_count": 41,
   "metadata": {},
   "outputs": [
    {
     "data": {
      "text/plain": [
       "'o2_e <=> '"
      ]
     },
     "execution_count": 41,
     "metadata": {},
     "output_type": "execute_result"
    }
   ],
   "source": [
    "# infinite oxigen uptake (same convention as with glucose intake)\n",
    "model.reactions.EX_o2_e.reaction"
   ]
  },
  {
   "cell_type": "code",
   "execution_count": 42,
   "metadata": {},
   "outputs": [
    {
     "data": {
      "text/plain": [
       "(-1000, 1)"
      ]
     },
     "execution_count": 42,
     "metadata": {},
     "output_type": "execute_result"
    }
   ],
   "source": [
    "model.reactions.EX_o2_e.lower_bound = -1000\n",
    "model.reactions.EX_o2_e.upper_bound = 1\n",
    "\n",
    "model.reactions.EX_o2_e.bounds"
   ]
  },
  {
   "cell_type": "code",
   "execution_count": 43,
   "metadata": {},
   "outputs": [
    {
     "data": {
      "text/plain": [
       "-1.0*Biomass_Ecoli_core_reverse_2cdba + 1.0*Biomass_Ecoli_core"
      ]
     },
     "execution_count": 43,
     "metadata": {},
     "output_type": "execute_result"
    }
   ],
   "source": [
    "# current objective function. Related to biomass/growthrate??\n",
    "model.objective.expression"
   ]
  },
  {
   "cell_type": "code",
   "execution_count": 44,
   "metadata": {},
   "outputs": [
    {
     "data": {
      "text/plain": [
       "1.653071851156823"
      ]
     },
     "execution_count": 44,
     "metadata": {},
     "output_type": "execute_result"
    }
   ],
   "source": [
    "FBAsol = model.optimize()\n",
    "FBAsol.objective_value"
   ]
  },
  {
   "cell_type": "code",
   "execution_count": 45,
   "metadata": {},
   "outputs": [
    {
     "data": {
      "text/plain": [
       "(0, 1)"
      ]
     },
     "execution_count": 45,
     "metadata": {},
     "output_type": "execute_result"
    }
   ],
   "source": [
    "# Anaerobic regime\n",
    "model.reactions.EX_o2_e.lower_bound = 0\n",
    "model.reactions.EX_o2_e.upper_bound = 1\n",
    "\n",
    "model.reactions.EX_o2_e.bounds"
   ]
  },
  {
   "cell_type": "code",
   "execution_count": 46,
   "metadata": {},
   "outputs": [
    {
     "data": {
      "text/plain": [
       "0.4705651710886836"
      ]
     },
     "execution_count": 46,
     "metadata": {},
     "output_type": "execute_result"
    }
   ],
   "source": [
    "AEsolution = model.optimize()\n",
    "AEsolution.objective_value"
   ]
  },
  {
   "cell_type": "code",
   "execution_count": 47,
   "metadata": {},
   "outputs": [
    {
     "name": "stdout",
     "output_type": "stream",
     "text": [
      "IN FLUXES         OUT FLUXES    OBJECTIVES\n",
      "----------------  ------------  ----------------------\n",
      "glc__D_e  18.5    h_e     56.7  Biomass_Ecol...  0.471\n",
      "h2o_e     12.1    for_e   32.1\n",
      "nh4_e      2.57   ac_e    15.2\n",
      "pi_e       1.73   etoh_e  14.7\n",
      "co2_e      0.841\n"
     ]
    }
   ],
   "source": [
    "model.summary()"
   ]
  },
  {
   "cell_type": "code",
   "execution_count": 48,
   "metadata": {},
   "outputs": [
    {
     "name": "stdout",
     "output_type": "stream",
     "text": [
      "(0, 1)\n",
      "(-20, 1)\n",
      "IN FLUXES         OUT FLUXES    OBJECTIVES\n",
      "----------------  ------------  ----------------------\n",
      "glc__D_e  18.5    h_e     56.7  Biomass_Ecol...  0.471\n",
      "h2o_e     12.1    for_e   32.1\n",
      "nh4_e      2.57   ac_e    15.2\n",
      "pi_e       1.73   etoh_e  14.7\n",
      "co2_e      0.841\n"
     ]
    }
   ],
   "source": [
    "# Alternate substrates\n",
    "model.reactions.EX_glc__D_e.lower_bound = 0 \n",
    "model.reactions.EX_glc__D_e.upper_bound = 1\n",
    "\n",
    "model.reactions.EX_succ_e.lower_bound = -20 \n",
    "model.reactions.EX_succ_e.upper_bound = 1\n",
    "\n",
    "print(model.reactions.EX_glc__D_e.bounds)\n",
    "print(model.reactions.EX_succ_e.bounds)\n",
    "\n",
    "solution = model.optimize\n",
    "model.summary()"
   ]
  },
  {
   "cell_type": "markdown",
   "metadata": {},
   "source": [
    "# Pass a COBRApy model to Escher\n",
    "\n",
    "No need to write then, read a model\n",
    "\n",
    "http://cobrapy.readthedocs.io/en/latest/io.html\n"
   ]
  },
  {
   "cell_type": "code",
   "execution_count": 1,
   "metadata": {
    "collapsed": true
   },
   "outputs": [],
   "source": [
    "import os\n",
    "from os.path import join\n",
    "from escher import Builder"
   ]
  },
  {
   "cell_type": "code",
   "execution_count": 4,
   "metadata": {
    "collapsed": true
   },
   "outputs": [],
   "source": [
    "# wrire/read a model\n",
    "cobra.io.write_sbml_model(model, \"ecoliCoreDemo.xml\")\n",
    "cobra.io.save_json_model(model, 'ecoliCoreDemo.json')\n",
    "\n",
    "my_cobra_model = cobra.io.read_sbml_model('ecoliCoreDemo.xml')"
   ]
  },
  {
   "cell_type": "code",
   "execution_count": null,
   "metadata": {},
   "outputs": [
    {
     "name": "stdout",
     "output_type": "stream",
     "text": [
      "\n",
      "Note: You must interrupt the kernel to end this command\n",
      "\n",
      "Serving to http://127.0.0.1:7655/\n",
      "[Ctrl-C to exit from terminal, or Ctrl-M i i to interrupt notebook kernel]\n"
     ]
    },
    {
     "name": "stderr",
     "output_type": "stream",
     "text": [
      "127.0.0.1 - - [13/Jul/2017 15:59:33] \"GET / HTTP/1.1\" 200 -\n"
     ]
    }
   ],
   "source": [
    "b = Builder(map_name=\"iJO1366.Central metabolism\", model=model)\n",
    "b.display_in_browser()"
   ]
  },
  {
   "cell_type": "markdown",
   "metadata": {},
   "source": [
    "# Cofactors from glucose \n"
   ]
  },
  {
   "cell_type": "code",
   "execution_count": 56,
   "metadata": {},
   "outputs": [
    {
     "data": {
      "text/plain": [
       "-1.0*Biomass_Ecoli_core_reverse_2cdba + 1.0*Biomass_Ecoli_core"
      ]
     },
     "execution_count": 56,
     "metadata": {},
     "output_type": "execute_result"
    }
   ],
   "source": [
    "# Set glucose exchange to -1 gDW^{-1}hr^{-1}\n",
    "model.reactions.EX_glc__D_e.lower_bound = -1\n",
    "model.reactions.EX_glc__D_e.upper_bound = -1\n",
    "\n",
    "# change the objective function\n",
    "model.objective.expression"
   ]
  },
  {
   "cell_type": "code",
   "execution_count": 58,
   "metadata": {},
   "outputs": [
    {
     "name": "stdout",
     "output_type": "stream",
     "text": [
      "IN FLUXES       OUT FLUXES        OBJECTIVES\n",
      "--------------  ----------------  ------------------------\n",
      "h2o_e     1.85  h_e       2.73    Biomass_Ecol...  -0.0738\n",
      "glc__D_e  1     for_e     2.69\n",
      "                etoh_e    1.6\n",
      "                ac_e      1.36\n",
      "                nh4_e     0.323\n",
      "                pi_e      0.271\n",
      "                co2_e     0.132\n",
      "                glu__L_e  0.0796\n"
     ]
    },
    {
     "name": "stderr",
     "output_type": "stream",
     "text": [
      "cobra\\util\\solver.py:404 UserWarning: solver status is 'infeasible'\n"
     ]
    }
   ],
   "source": [
    "ATPM_objective = model.reactions.get_by_id('ATPM')\n",
    "model.optimize(new_objective=ATPM_objective)\n",
    "\n",
    "model.summary()"
   ]
  },
  {
   "cell_type": "code",
   "execution_count": 59,
   "metadata": {},
   "outputs": [
    {
     "name": "stdout",
     "output_type": "stream",
     "text": [
      "IN FLUXES       OUT FLUXES        OBJECTIVES\n",
      "--------------  ----------------  ------------\n",
      "h2o_e     1.85  h_e       2.73    ATPM  8.39\n",
      "glc__D_e  1     for_e     2.69\n",
      "                etoh_e    1.6\n",
      "                ac_e      1.36\n",
      "                nh4_e     0.323\n",
      "                pi_e      0.271\n",
      "                co2_e     0.132\n",
      "                glu__L_e  0.0796\n"
     ]
    },
    {
     "name": "stderr",
     "output_type": "stream",
     "text": [
      "cobra\\util\\solver.py:404 UserWarning: solver status is 'infeasible'\n"
     ]
    }
   ],
   "source": [
    "# Alternative solution\n",
    "model.objective = 'ATPM'\n",
    "model.objective.expression\n",
    "solution = model.optimize()\n",
    "\n",
    "model.summary()"
   ]
  },
  {
   "cell_type": "code",
   "execution_count": 223,
   "metadata": {
    "collapsed": true
   },
   "outputs": [],
   "source": [
    "# NADH yields\n",
    "# model.add_reaction('NADH_drain', 'NADH16 ->  NAD + EX_h_e')"
   ]
  },
  {
   "cell_type": "markdown",
   "metadata": {},
   "source": [
    "# Gene knockouts\n"
   ]
  },
  {
   "cell_type": "code",
   "execution_count": 39,
   "metadata": {},
   "outputs": [
    {
     "data": {
      "text/plain": [
       "-1.0*Biomass_Ecoli_core_reverse_2cdba + 1.0*Biomass_Ecoli_core"
      ]
     },
     "execution_count": 39,
     "metadata": {},
     "output_type": "execute_result"
    }
   ],
   "source": [
    "# http://cobrapy.readthedocs.io/en/latest/deletions.html\n",
    "from cobra.flux_analysis import (\n",
    "    single_gene_deletion, single_reaction_deletion, double_gene_deletion,\n",
    "    double_reaction_deletion)\n",
    "\n",
    "# SGD and DGD modify the model.\n",
    "model = cobra.test.create_test_model(\"textbook\")\n",
    "#SGD = single_gene_deletion(model, return_frame=True)\n",
    "DGD = double_gene_deletion(model, return_frame=True)\n",
    "\n",
    "model.objective.expression"
   ]
  },
  {
   "cell_type": "code",
   "execution_count": 61,
   "metadata": {},
   "outputs": [
    {
     "data": {
      "text/html": [
       "<div>\n",
       "<table border=\"1\" class=\"dataframe\">\n",
       "  <thead>\n",
       "    <tr style=\"text-align: right;\">\n",
       "      <th></th>\n",
       "      <th>b1241</th>\n",
       "      <th>b0351</th>\n",
       "      <th>s0001</th>\n",
       "      <th>b3115</th>\n",
       "      <th>b1849</th>\n",
       "      <th>b2296</th>\n",
       "      <th>b1276</th>\n",
       "      <th>b0118</th>\n",
       "      <th>b0474</th>\n",
       "      <th>b0116</th>\n",
       "      <th>...</th>\n",
       "      <th>b0724</th>\n",
       "      <th>b0721</th>\n",
       "      <th>b0723</th>\n",
       "      <th>b0728</th>\n",
       "      <th>b0729</th>\n",
       "      <th>b2464</th>\n",
       "      <th>b0008</th>\n",
       "      <th>b2935</th>\n",
       "      <th>b2465</th>\n",
       "      <th>b3919</th>\n",
       "    </tr>\n",
       "  </thead>\n",
       "  <tbody>\n",
       "    <tr>\n",
       "      <th>b1241</th>\n",
       "      <td>0.873922</td>\n",
       "      <td>0.873922</td>\n",
       "      <td>0.211141</td>\n",
       "      <td>0.873922</td>\n",
       "      <td>0.873922</td>\n",
       "      <td>0.873922</td>\n",
       "      <td>0.873922</td>\n",
       "      <td>0.873922</td>\n",
       "      <td>0.873922</td>\n",
       "      <td>0.782351</td>\n",
       "      <td>...</td>\n",
       "      <td>0.814298</td>\n",
       "      <td>0.814298</td>\n",
       "      <td>0.814298</td>\n",
       "      <td>0.858307</td>\n",
       "      <td>0.858307</td>\n",
       "      <td>0.873922</td>\n",
       "      <td>0.873922</td>\n",
       "      <td>0.873922</td>\n",
       "      <td>0.873922</td>\n",
       "      <td>0.704037</td>\n",
       "    </tr>\n",
       "    <tr>\n",
       "      <th>b0351</th>\n",
       "      <td>0.873922</td>\n",
       "      <td>0.873922</td>\n",
       "      <td>0.211141</td>\n",
       "      <td>0.873922</td>\n",
       "      <td>0.873922</td>\n",
       "      <td>0.873922</td>\n",
       "      <td>0.873922</td>\n",
       "      <td>0.873922</td>\n",
       "      <td>0.873922</td>\n",
       "      <td>0.782351</td>\n",
       "      <td>...</td>\n",
       "      <td>0.814298</td>\n",
       "      <td>0.814298</td>\n",
       "      <td>0.814298</td>\n",
       "      <td>0.858307</td>\n",
       "      <td>0.858307</td>\n",
       "      <td>0.873922</td>\n",
       "      <td>0.873922</td>\n",
       "      <td>0.873922</td>\n",
       "      <td>0.873922</td>\n",
       "      <td>0.704037</td>\n",
       "    </tr>\n",
       "    <tr>\n",
       "      <th>s0001</th>\n",
       "      <td>0.211141</td>\n",
       "      <td>0.211141</td>\n",
       "      <td>0.211141</td>\n",
       "      <td>0.211141</td>\n",
       "      <td>0.211141</td>\n",
       "      <td>0.211141</td>\n",
       "      <td>0.211141</td>\n",
       "      <td>0.211141</td>\n",
       "      <td>0.211141</td>\n",
       "      <td>0.210794</td>\n",
       "      <td>...</td>\n",
       "      <td>0.211141</td>\n",
       "      <td>0.211141</td>\n",
       "      <td>0.211141</td>\n",
       "      <td>0.211141</td>\n",
       "      <td>0.211141</td>\n",
       "      <td>0.211141</td>\n",
       "      <td>0.211141</td>\n",
       "      <td>0.211141</td>\n",
       "      <td>0.211141</td>\n",
       "      <td>0.000000</td>\n",
       "    </tr>\n",
       "    <tr>\n",
       "      <th>b3115</th>\n",
       "      <td>0.873922</td>\n",
       "      <td>0.873922</td>\n",
       "      <td>0.211141</td>\n",
       "      <td>0.873922</td>\n",
       "      <td>0.873922</td>\n",
       "      <td>0.873922</td>\n",
       "      <td>0.873922</td>\n",
       "      <td>0.873922</td>\n",
       "      <td>0.873922</td>\n",
       "      <td>0.782351</td>\n",
       "      <td>...</td>\n",
       "      <td>0.814298</td>\n",
       "      <td>0.814298</td>\n",
       "      <td>0.814298</td>\n",
       "      <td>0.858307</td>\n",
       "      <td>0.858307</td>\n",
       "      <td>0.873922</td>\n",
       "      <td>0.873922</td>\n",
       "      <td>0.873922</td>\n",
       "      <td>0.873922</td>\n",
       "      <td>0.704037</td>\n",
       "    </tr>\n",
       "    <tr>\n",
       "      <th>b1849</th>\n",
       "      <td>0.873922</td>\n",
       "      <td>0.873922</td>\n",
       "      <td>0.211141</td>\n",
       "      <td>0.873922</td>\n",
       "      <td>0.873922</td>\n",
       "      <td>0.873922</td>\n",
       "      <td>0.873922</td>\n",
       "      <td>0.873922</td>\n",
       "      <td>0.873922</td>\n",
       "      <td>0.782351</td>\n",
       "      <td>...</td>\n",
       "      <td>0.814298</td>\n",
       "      <td>0.814298</td>\n",
       "      <td>0.814298</td>\n",
       "      <td>0.858307</td>\n",
       "      <td>0.858307</td>\n",
       "      <td>0.873922</td>\n",
       "      <td>0.873922</td>\n",
       "      <td>0.873922</td>\n",
       "      <td>0.873922</td>\n",
       "      <td>0.704037</td>\n",
       "    </tr>\n",
       "  </tbody>\n",
       "</table>\n",
       "<p>5 rows × 137 columns</p>\n",
       "</div>"
      ],
      "text/plain": [
       "          b1241     b0351     s0001     b3115     b1849     b2296     b1276  \\\n",
       "b1241  0.873922  0.873922  0.211141  0.873922  0.873922  0.873922  0.873922   \n",
       "b0351  0.873922  0.873922  0.211141  0.873922  0.873922  0.873922  0.873922   \n",
       "s0001  0.211141  0.211141  0.211141  0.211141  0.211141  0.211141  0.211141   \n",
       "b3115  0.873922  0.873922  0.211141  0.873922  0.873922  0.873922  0.873922   \n",
       "b1849  0.873922  0.873922  0.211141  0.873922  0.873922  0.873922  0.873922   \n",
       "\n",
       "          b0118     b0474     b0116    ...        b0724     b0721     b0723  \\\n",
       "b1241  0.873922  0.873922  0.782351    ...     0.814298  0.814298  0.814298   \n",
       "b0351  0.873922  0.873922  0.782351    ...     0.814298  0.814298  0.814298   \n",
       "s0001  0.211141  0.211141  0.210794    ...     0.211141  0.211141  0.211141   \n",
       "b3115  0.873922  0.873922  0.782351    ...     0.814298  0.814298  0.814298   \n",
       "b1849  0.873922  0.873922  0.782351    ...     0.814298  0.814298  0.814298   \n",
       "\n",
       "          b0728     b0729     b2464     b0008     b2935     b2465     b3919  \n",
       "b1241  0.858307  0.858307  0.873922  0.873922  0.873922  0.873922  0.704037  \n",
       "b0351  0.858307  0.858307  0.873922  0.873922  0.873922  0.873922  0.704037  \n",
       "s0001  0.211141  0.211141  0.211141  0.211141  0.211141  0.211141  0.000000  \n",
       "b3115  0.858307  0.858307  0.873922  0.873922  0.873922  0.873922  0.704037  \n",
       "b1849  0.858307  0.858307  0.873922  0.873922  0.873922  0.873922  0.704037  \n",
       "\n",
       "[5 rows x 137 columns]"
      ]
     },
     "execution_count": 61,
     "metadata": {},
     "output_type": "execute_result"
    }
   ],
   "source": [
    "DGD.head()"
   ]
  },
  {
   "cell_type": "code",
   "execution_count": 40,
   "metadata": {},
   "outputs": [
    {
     "data": {
      "image/png": "[encoded data removed]",
      "text/plain": [
       "<matplotlib.figure.Figure at 0xb8fd394cf8>"
      ]
     },
     "metadata": {},
     "output_type": "display_data"
    }
   ],
   "source": [
    "import numpy\n",
    "import matplotlib.pylab as plt\n",
    "import seaborn as sns\n",
    "\n",
    "ax = sns.heatmap(DGD)\n",
    "ax.set_xticks([])\n",
    "ax.set_yticks([])\n",
    "\n",
    "plt.show()"
   ]
  },
  {
   "cell_type": "code",
   "execution_count": 63,
   "metadata": {},
   "outputs": [
    {
     "data": {
      "text/plain": [
       "-1.0*ATPM_reverse_5b752 + 1.0*ATPM"
      ]
     },
     "execution_count": 63,
     "metadata": {},
     "output_type": "execute_result"
    }
   ],
   "source": [
    "modelATPM = cobra.test.create_test_model(\"textbook\")\n",
    "\n",
    "# ATPM production with double gene knockout\n",
    "modelATPM.objective = 'ATPM'\n",
    "modelATPM.objective.expression"
   ]
  },
  {
   "cell_type": "code",
   "execution_count": 65,
   "metadata": {},
   "outputs": [
    {
     "data": {
      "text/html": [
       "<div>\n",
       "<table border=\"1\" class=\"dataframe\">\n",
       "  <thead>\n",
       "    <tr style=\"text-align: right;\">\n",
       "      <th></th>\n",
       "      <th>b1241</th>\n",
       "      <th>b0351</th>\n",
       "      <th>s0001</th>\n",
       "      <th>b3115</th>\n",
       "      <th>b1849</th>\n",
       "      <th>b2296</th>\n",
       "      <th>b1276</th>\n",
       "      <th>b0118</th>\n",
       "      <th>b0474</th>\n",
       "      <th>b0116</th>\n",
       "      <th>...</th>\n",
       "      <th>b0724</th>\n",
       "      <th>b0721</th>\n",
       "      <th>b0723</th>\n",
       "      <th>b0728</th>\n",
       "      <th>b0729</th>\n",
       "      <th>b2464</th>\n",
       "      <th>b0008</th>\n",
       "      <th>b2935</th>\n",
       "      <th>b2465</th>\n",
       "      <th>b3919</th>\n",
       "    </tr>\n",
       "  </thead>\n",
       "  <tbody>\n",
       "    <tr>\n",
       "      <th>b1241</th>\n",
       "      <td>175.0</td>\n",
       "      <td>175.0</td>\n",
       "      <td>27.5</td>\n",
       "      <td>175.0</td>\n",
       "      <td>175.0</td>\n",
       "      <td>175.0</td>\n",
       "      <td>175.0</td>\n",
       "      <td>175.0</td>\n",
       "      <td>175.0</td>\n",
       "      <td>131.25</td>\n",
       "      <td>...</td>\n",
       "      <td>130.0</td>\n",
       "      <td>130.0</td>\n",
       "      <td>130.0</td>\n",
       "      <td>155.0</td>\n",
       "      <td>155.0</td>\n",
       "      <td>175.0</td>\n",
       "      <td>175.0</td>\n",
       "      <td>175.0</td>\n",
       "      <td>175.0</td>\n",
       "      <td>162.5</td>\n",
       "    </tr>\n",
       "    <tr>\n",
       "      <th>b0351</th>\n",
       "      <td>175.0</td>\n",
       "      <td>175.0</td>\n",
       "      <td>27.5</td>\n",
       "      <td>175.0</td>\n",
       "      <td>175.0</td>\n",
       "      <td>175.0</td>\n",
       "      <td>175.0</td>\n",
       "      <td>175.0</td>\n",
       "      <td>175.0</td>\n",
       "      <td>131.25</td>\n",
       "      <td>...</td>\n",
       "      <td>130.0</td>\n",
       "      <td>130.0</td>\n",
       "      <td>130.0</td>\n",
       "      <td>155.0</td>\n",
       "      <td>155.0</td>\n",
       "      <td>175.0</td>\n",
       "      <td>175.0</td>\n",
       "      <td>175.0</td>\n",
       "      <td>175.0</td>\n",
       "      <td>162.5</td>\n",
       "    </tr>\n",
       "    <tr>\n",
       "      <th>s0001</th>\n",
       "      <td>27.5</td>\n",
       "      <td>27.5</td>\n",
       "      <td>27.5</td>\n",
       "      <td>27.5</td>\n",
       "      <td>27.5</td>\n",
       "      <td>27.5</td>\n",
       "      <td>27.5</td>\n",
       "      <td>27.5</td>\n",
       "      <td>27.5</td>\n",
       "      <td>27.50</td>\n",
       "      <td>...</td>\n",
       "      <td>27.5</td>\n",
       "      <td>27.5</td>\n",
       "      <td>27.5</td>\n",
       "      <td>27.5</td>\n",
       "      <td>27.5</td>\n",
       "      <td>27.5</td>\n",
       "      <td>27.5</td>\n",
       "      <td>27.5</td>\n",
       "      <td>27.5</td>\n",
       "      <td>0.0</td>\n",
       "    </tr>\n",
       "    <tr>\n",
       "      <th>b3115</th>\n",
       "      <td>175.0</td>\n",
       "      <td>175.0</td>\n",
       "      <td>27.5</td>\n",
       "      <td>175.0</td>\n",
       "      <td>175.0</td>\n",
       "      <td>175.0</td>\n",
       "      <td>175.0</td>\n",
       "      <td>175.0</td>\n",
       "      <td>175.0</td>\n",
       "      <td>131.25</td>\n",
       "      <td>...</td>\n",
       "      <td>130.0</td>\n",
       "      <td>130.0</td>\n",
       "      <td>130.0</td>\n",
       "      <td>155.0</td>\n",
       "      <td>155.0</td>\n",
       "      <td>175.0</td>\n",
       "      <td>175.0</td>\n",
       "      <td>175.0</td>\n",
       "      <td>175.0</td>\n",
       "      <td>162.5</td>\n",
       "    </tr>\n",
       "    <tr>\n",
       "      <th>b1849</th>\n",
       "      <td>175.0</td>\n",
       "      <td>175.0</td>\n",
       "      <td>27.5</td>\n",
       "      <td>175.0</td>\n",
       "      <td>175.0</td>\n",
       "      <td>175.0</td>\n",
       "      <td>175.0</td>\n",
       "      <td>175.0</td>\n",
       "      <td>175.0</td>\n",
       "      <td>131.25</td>\n",
       "      <td>...</td>\n",
       "      <td>130.0</td>\n",
       "      <td>130.0</td>\n",
       "      <td>130.0</td>\n",
       "      <td>155.0</td>\n",
       "      <td>155.0</td>\n",
       "      <td>175.0</td>\n",
       "      <td>175.0</td>\n",
       "      <td>175.0</td>\n",
       "      <td>175.0</td>\n",
       "      <td>162.5</td>\n",
       "    </tr>\n",
       "  </tbody>\n",
       "</table>\n",
       "<p>5 rows × 137 columns</p>\n",
       "</div>"
      ],
      "text/plain": [
       "       b1241  b0351  s0001  b3115  b1849  b2296  b1276  b0118  b0474   b0116  \\\n",
       "b1241  175.0  175.0   27.5  175.0  175.0  175.0  175.0  175.0  175.0  131.25   \n",
       "b0351  175.0  175.0   27.5  175.0  175.0  175.0  175.0  175.0  175.0  131.25   \n",
       "s0001   27.5   27.5   27.5   27.5   27.5   27.5   27.5   27.5   27.5   27.50   \n",
       "b3115  175.0  175.0   27.5  175.0  175.0  175.0  175.0  175.0  175.0  131.25   \n",
       "b1849  175.0  175.0   27.5  175.0  175.0  175.0  175.0  175.0  175.0  131.25   \n",
       "\n",
       "       ...    b0724  b0721  b0723  b0728  b0729  b2464  b0008  b2935  b2465  \\\n",
       "b1241  ...    130.0  130.0  130.0  155.0  155.0  175.0  175.0  175.0  175.0   \n",
       "b0351  ...    130.0  130.0  130.0  155.0  155.0  175.0  175.0  175.0  175.0   \n",
       "s0001  ...     27.5   27.5   27.5   27.5   27.5   27.5   27.5   27.5   27.5   \n",
       "b3115  ...    130.0  130.0  130.0  155.0  155.0  175.0  175.0  175.0  175.0   \n",
       "b1849  ...    130.0  130.0  130.0  155.0  155.0  175.0  175.0  175.0  175.0   \n",
       "\n",
       "       b3919  \n",
       "b1241  162.5  \n",
       "b0351  162.5  \n",
       "s0001    0.0  \n",
       "b3115  162.5  \n",
       "b1849  162.5  \n",
       "\n",
       "[5 rows x 137 columns]"
      ]
     },
     "execution_count": 65,
     "metadata": {},
     "output_type": "execute_result"
    }
   ],
   "source": [
    "DGD = double_gene_deletion(modelATPM, return_frame=True)\n",
    "DGD.head()"
   ]
  },
  {
   "cell_type": "code",
   "execution_count": 66,
   "metadata": {},
   "outputs": [
    {
     "name": "stdout",
     "output_type": "stream",
     "text": [
      "Maximize\n",
      "-1.0*Biomass_Ecoli_core_reverse_2cdba + 1.0*Biomass_Ecoli_core\n"
     ]
    },
    {
     "data": {
      "image/png": "[encoded data removed]",
      "text/plain": [
       "<matplotlib.figure.Figure at 0x7221968048>"
      ]
     },
     "metadata": {},
     "output_type": "display_data"
    }
   ],
   "source": [
    "# Are the values ok???\n",
    "print(model.objective)\n",
    "\n",
    "ax = sns.heatmap(DGD)\n",
    "ax.set_xticks([])\n",
    "ax.set_yticks([])\n",
    "plt.show()"
   ]
  },
  {
   "cell_type": "markdown",
   "metadata": {},
   "source": [
    "# Compute the objective in function of a flux"
   ]
  },
  {
   "cell_type": "code",
   "execution_count": 4,
   "metadata": {},
   "outputs": [
    {
     "data": {
      "text/plain": [
       "(-17, -17)"
      ]
     },
     "execution_count": 4,
     "metadata": {},
     "output_type": "execute_result"
    }
   ],
   "source": [
    "model = cobra.test.create_test_model(\"textbook\")\n",
    "\n",
    "# Set uptake oxigen to 17\n",
    "model.reactions.EX_o2_e.reaction\n",
    "model.reactions.EX_o2_e.lower_bound = -17\n",
    "model.reactions.EX_o2_e.upper_bound = -17\n",
    "model.reactions.EX_o2_e.bounds"
   ]
  },
  {
   "cell_type": "code",
   "execution_count": 5,
   "metadata": {},
   "outputs": [
    {
     "name": "stderr",
     "output_type": "stream",
     "text": [
      "cobra\\util\\solver.py:404 UserWarning: solver status is 'infeasible'\n"
     ]
    },
    {
     "data": {
      "image/png": "[encoded data removed]",
      "text/plain": [
       "<matplotlib.figure.Figure at 0x90d4aaadd8>"
      ]
     },
     "metadata": {},
     "output_type": "display_data"
    }
   ],
   "source": [
    "import numpy as np\n",
    "import matplotlib.pyplot as plt\n",
    "\n",
    "growthRates = np.zeros(21)\n",
    "\n",
    "for i in range(0, 20) :\n",
    "    model.reactions.EX_glc__D_e.lower_bound = -i\n",
    "    model.reactions.EX_glc__D_e.upper_bound = -i\n",
    "    solution = model.optimize()\n",
    "    growthRates[i+1] = solution.objective_value.real \n",
    "    \n",
    "plt.plot(np.arange(0,21), growthRates)\n",
    "plt.ylabel('growth rate')\n",
    "plt.xlabel('glucose uptake rate')\n",
    "plt.ylim((-0.2,1.2))\n",
    "plt.show()"
   ]
  },
  {
   "cell_type": "code",
   "execution_count": 70,
   "metadata": {},
   "outputs": [
    {
     "data": {
      "text/plain": [
       "(-10, -10)"
      ]
     },
     "execution_count": 70,
     "metadata": {},
     "output_type": "execute_result"
    }
   ],
   "source": [
    "model = cobra.test.create_test_model(\"textbook\")\n",
    "\n",
    "# Set uptake oxigen to 17\n",
    "model.reactions.EX_glc__D_e.lower_bound = -10\n",
    "model.reactions.EX_glc__D_e.upper_bound = -10\n",
    "model.reactions.EX_glc__D_e.bounds"
   ]
  },
  {
   "cell_type": "code",
   "execution_count": 71,
   "metadata": {},
   "outputs": [
    {
     "data": {
      "image/png": "[encoded data removed]",
      "text/plain": [
       "<matplotlib.figure.Figure at 0x7221f0fac8>"
      ]
     },
     "metadata": {},
     "output_type": "display_data"
    }
   ],
   "source": [
    "import numpy as np\n",
    "import matplotlib.pyplot as plt\n",
    "\n",
    "nPts = 30\n",
    "growthRates = np.zeros(nPts)\n",
    "\n",
    "for i in range(0, nPts-1) :\n",
    "    model.reactions.EX_o2_e.lower_bound = -i\n",
    "    model.reactions.EX_o2_e.upper_bound = -i\n",
    "    solution = model.optimize()\n",
    "    growthRates[i+1] = solution.objective_value.real \n",
    "    \n",
    "plt.plot(np.arange(0,nPts), growthRates)\n",
    "plt.ylabel('growth rate')\n",
    "plt.xlabel('oxigen uptake rate')\n",
    "plt.ylim((-0.2,1))\n",
    "plt.show()"
   ]
  },
  {
   "cell_type": "markdown",
   "metadata": {},
   "source": [
    "## The same analysis can be done but with two parameters varying."
   ]
  },
  {
   "cell_type": "code",
   "execution_count": 24,
   "metadata": {},
   "outputs": [],
   "source": [
    "modelArray = model.to_array_based_model()\n",
    "S = modelArray.S.todense()"
   ]
  },
  {
   "cell_type": "code",
   "execution_count": 38,
   "metadata": {},
   "outputs": [],
   "source": [
    "import pandas as pd\n",
    "Sdf = pd.DataFrame(\n",
    "    data = S,\n",
    "    columns = model.reactions.list_attr(\"id\"),\n",
    "    index = model.metabolites.list_attr(\"id\"))"
   ]
  },
  {
   "cell_type": "code",
   "execution_count": 23,
   "metadata": {},
   "outputs": [
    {
     "data": {
      "image/png": "[encoded data removed]",
      "text/plain": [
       "<matplotlib.figure.Figure at 0xb8fb9f7ba8>"
      ]
     },
     "metadata": {},
     "output_type": "display_data"
    }
   ],
   "source": [
    "plt.spy(S, marker='.')\n",
    "plt.show()"
   ]
  }
 ],
 "metadata": {
  "anaconda-cloud": {},
  "kernelspec": {
   "display_name": "Python [conda root]",
   "language": "python",
   "name": "conda-root-py"
  },
  "language_info": {
   "codemirror_mode": {
    "name": "ipython",
    "version": 3
   },
   "file_extension": ".py",
   "mimetype": "text/x-python",
   "name": "python",
   "nbconvert_exporter": "python",
   "pygments_lexer": "ipython3",
   "version": "3.5.3"
  }
 },
 "nbformat": 4,
 "nbformat_minor": 1
}
