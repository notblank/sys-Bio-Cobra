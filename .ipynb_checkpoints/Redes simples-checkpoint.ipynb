{
 "cells": [
  {
   "cell_type": "markdown",
   "metadata": {},
   "source": [
    "## Redes simples\n",
    "\n",
    "[S. Boyd EE263: Intro to Lin Dyn. Sys.] \n",
    "\n",
    "[G. Strang: Lin. Alg.]\n",
    "\n",
    "<img src='redes/circular.png' width=\"400\" height=\"400\">\n",
    "\n",
    "Tiene:\n",
    "- Tres metabolitos: A, B y C. \n",
    "- Tres reacciones: $R_1$, $R_2$ y $R_3$\n",
    "\n",
    "$$ \\Large\n",
    "\\begin{equation*}\n",
    "  \\begin{matrix}\n",
    "      & R_1 & R_2 & R_3\\\\\n",
    "    A & -1 &  0 & +1\\\\\n",
    "    B & +1 & -1 & 0\\\\\n",
    "    C &  0 & +1 & -1\\\\\n",
    "  \\end{matrix}\n",
    "\\end{equation*}\n",
    "$$\n",
    "\n",
    "O: \n",
    "\n",
    "$$ \\Large\n",
    "\\begin{equation*}\n",
    "  C = \\begin{bmatrix}\n",
    "    -1 &  0 & +1\\\\\n",
    "    +1 & -1 & 0\\\\\n",
    "     0 & +1 & -1\\\\\n",
    "  \\end{bmatrix}\n",
    "\\end{equation*}\n",
    "$$"
   ]
  },
  {
   "cell_type": "code",
   "execution_count": 3,
   "metadata": {
    "collapsed": true
   },
   "outputs": [],
   "source": [
    "import numpy as np"
   ]
  },
  {
   "cell_type": "code",
   "execution_count": 4,
   "metadata": {
    "collapsed": true
   },
   "outputs": [],
   "source": [
    "C = np.array([[ -1, 0,  1],\n",
    "               [ 1,  -1, 0],\n",
    "               [ 0, 1, -1]], dtype='float64')"
   ]
  },
  {
   "cell_type": "code",
   "execution_count": 5,
   "metadata": {},
   "outputs": [
    {
     "data": {
      "text/plain": [
       "array([[-1.,  0.,  1.],\n",
       "       [ 1., -1.,  0.],\n",
       "       [ 0.,  1., -1.]])"
      ]
     },
     "execution_count": 5,
     "metadata": {},
     "output_type": "execute_result"
    }
   ],
   "source": [
    "C "
   ]
  },
  {
   "cell_type": "markdown",
   "metadata": {},
   "source": [
    "## Qué puedo leer en C?\n",
    "\n",
    "La forma de la matriz es importante."
   ]
  },
  {
   "cell_type": "code",
   "execution_count": 6,
   "metadata": {
    "collapsed": true
   },
   "outputs": [],
   "source": [
    "import matplotlib.pylab as plt\n",
    "import scipy.linalg as sp_linalg"
   ]
  },
  {
   "cell_type": "code",
   "execution_count": 7,
   "metadata": {},
   "outputs": [
    {
     "data": {
      "image/png": "[encoded data removed]",
      "text/plain": [
       "<matplotlib.figure.Figure at 0xa5602897b8>"
      ]
     },
     "metadata": {},
     "output_type": "display_data"
    }
   ],
   "source": [
    "plt.matshow(C, cmap=plt.cm.viridis)\n",
    "plt.show()"
   ]
  },
  {
   "cell_type": "markdown",
   "metadata": {},
   "source": [
    "Es una matriz circular... Más fácil de construir. \n",
    "\n",
    "Podemos leer la estructura viendo la matriz. No es importante con 3 reacciones pero si con 2k. "
   ]
  },
  {
   "cell_type": "code",
   "execution_count": 8,
   "metadata": {},
   "outputs": [
    {
     "data": {
      "image/png": "[encoded data removed]",
      "text/plain": [
       "<matplotlib.figure.Figure at 0xa560481eb8>"
      ]
     },
     "metadata": {},
     "output_type": "display_data"
    }
   ],
   "source": [
    "C2 = sp_linalg.circulant([-1, 1, 0])\n",
    "plt.matshow(C, cmap=plt.cm.viridis)\n",
    "plt.show()"
   ]
  },
  {
   "cell_type": "markdown",
   "metadata": {},
   "source": [
    "### Qué es Cf?\n",
    "\n",
    "$$\\Large y = Cf $$\n",
    "\n",
    "En general tiene muchas interpretaciones:\n",
    "- f es desconocida, y son observaciones. \n",
    "- f es un input, y es un output. \n",
    "- $y = Cf$ es una transformación de f."
   ]
  },
  {
   "cell_type": "markdown",
   "metadata": {},
   "source": [
    "### Qué es $f$ en una red metabólica?\n",
    "\n",
    "En el ejemplo:\n",
    "\n",
    "$$ \\Large\n",
    "f = \n",
    "\\begin{bmatrix}\n",
    "f_1 \\\\\n",
    "f_2 \\\\\n",
    "f_3 \n",
    "\\end{bmatrix}\n",
    "$$\n",
    "\n",
    "y \n",
    "\n",
    "$$ \\Large\n",
    "\\begin{align*}\n",
    "C \\ f &= \n",
    "\\begin{bmatrix}\n",
    "    -1 &  0 & +1\\\\\n",
    "    +1 & -1 & 0\\\\\n",
    "     0 & +1 & -1\\\\\n",
    "\\end{bmatrix} \n",
    "\\begin{bmatrix}\n",
    "f_1 \\\\\n",
    "f_2 \\\\\n",
    "f_3 \n",
    "\\end{bmatrix} \\\\ &=\n",
    "\\begin{bmatrix}\n",
    "-f_1 + f_3 \\\\\n",
    "f_1 - f_2 \\\\\n",
    "f_2 - f_3 \n",
    "\\end{bmatrix} \\\\\n",
    "&=\n",
    "f_1  \\begin{bmatrix} -1 \\\\ 1 \\\\ 0  \\end{bmatrix} +\n",
    "f_2  \\begin{bmatrix} 0 \\\\ -1 \\\\ 1  \\end{bmatrix} +\n",
    "f_3  \\begin{bmatrix} 1 \\\\ 0 \\\\ -1  \\end{bmatrix} \n",
    "\\end{align*}\n",
    "$$\n",
    "\n",
    "Si, por ejemplo, $f_1 = 0$, la reacción $R_1$ no se expresa. \n",
    "\n",
    "\n",
    "#### Flujo es la cantidad en la que expresa una reacción/relacion.\n",
    "\n",
    "$$ \n",
    "\\Large\n",
    "\\begin{align*}\n",
    "C \\ f &= \n",
    "\\begin{bmatrix}\n",
    "    -1 &  0 & +1\\\\\n",
    "    +1 & -1 & 0\\\\\n",
    "     0 & +1 & -1\\\\\n",
    "\\end{bmatrix} \n",
    "\\begin{bmatrix}\n",
    "f_1 \\\\\n",
    "f_2 \\\\\n",
    "f_3 \n",
    "\\end{bmatrix} \\\\ &=\n",
    "\\begin{bmatrix}\n",
    "-f_1 + f_3 \\\\\n",
    "f_1 - f_2 \\\\\n",
    "f_2 - f_3 \n",
    "\\end{bmatrix} \\\\\n",
    "\\end{align*}\n",
    "$$"
   ]
  },
  {
   "cell_type": "code",
   "execution_count": 11,
   "metadata": {},
   "outputs": [
    {
     "data": {
      "text/plain": [
       "array([ 1., -1.,  0.])"
      ]
     },
     "execution_count": 11,
     "metadata": {},
     "output_type": "execute_result"
    }
   ],
   "source": [
    "C.dot([1, 2, 2])"
   ]
  },
  {
   "cell_type": "code",
   "execution_count": 13,
   "metadata": {},
   "outputs": [
    {
     "data": {
      "text/plain": [
       "array([-1.,  1.,  0.])"
      ]
     },
     "execution_count": 13,
     "metadata": {},
     "output_type": "execute_result"
    }
   ],
   "source": [
    "C.dot([2, 1, 1])"
   ]
  },
  {
   "cell_type": "markdown",
   "metadata": {},
   "source": [
    "Entonces, \n",
    "\n",
    "$$ \\Large\n",
    "\\begin{align*}\n",
    "\\begin{bmatrix}\n",
    "    -1 &  0 & +1\\\\\n",
    "    +1 & -1 & 0\\\\\n",
    "     0 & +1 & -1\\\\\n",
    "\\end{bmatrix}  \n",
    "\\begin{bmatrix}\n",
    "f_1 \\\\\n",
    "f_2 \\\\\n",
    "f_3\n",
    "\\end{bmatrix} =\n",
    "\\begin{bmatrix}\n",
    "\\Delta A \\\\\n",
    "\\Delta B \\\\\n",
    "\\Delta C\n",
    "\\end{bmatrix}\n",
    "\\end{align*}\n",
    "$$\n",
    "\n",
    "- El vector $f$ es un flujo y \n",
    "- $Cf$ es cuanto cambia la cantidad de metabolitos durante el flujo. \n",
    "\n",
    "### La ecuación $y = Cf$ un poco mas de cerca:\n",
    "\n",
    "$$ \\Large \n",
    "y_i = \\sum_j C[i, j] \\ f_j\n",
    "$$\n",
    "\n",
    "- C[i, j] es el factor de crecimiento de $f_j$ para $y_i$.\n",
    "\n",
    "Entonces, \n",
    "\n",
    "- la jésima fila tiene que ver con el iésimo output. \n",
    "- la késima columna tiene que ver con el késimo input. \n",
    "- $C[2, 7] = 0$, $f_7$ no afecta a $y_2$ (o $y_2$ no depende de $f_7$).\n",
    "- $ \\left| C[3, 1] \\right| \\gg \\left| C[3, j] \\right|$, para todo $j$ diferente de 1. $y_3$ depende principalmente de $f_1$.\n",
    "- $ \\left| C[5, 2] \\right| \\gg \\left| C[i, 2] \\right|$, $f_2$ afecta principalmente a $y_5$.\n",
    "\n",
    "\n",
    "### Ejercicios:\n",
    "\n",
    "1- Prueben estas matrices: \n",
    "\n",
    "$$ \\Large \n",
    "A = \n",
    "\\begin{bmatrix}\n",
    "1 & 1 \\\\\n",
    "0 & 1\n",
    "\\end{bmatrix}\n",
    "$$\n",
    "\n",
    "y\n",
    "\n",
    "$$ \\Large \n",
    "A = \n",
    "\\begin{bmatrix}\n",
    "100 & 0.1 \\\\\n",
    "0.1 & 1\n",
    "\\end{bmatrix}\n",
    "$$\n",
    "\n",
    "2- n flujos: $f_1, ... , f_n$.\n",
    "\n",
    "- $t_i$ : tráfico en el camino i. \n",
    "- Cómo definen $t_i$ en función de $f$? Una idea $t = Af$\n",
    "    - $A[i, j] = 1$, si flujo $j$ pasa por el camino $i$.\n",
    "    - $A[i, j] = 0$, sino.\n",
    "- Qué es un embotellamiento? \n",
    "- Qué es una columna con muchos unos? \n",
    "\n",
    "3- Qué flujo hace que $Cf = 0$? Pista: es un grafo cirular. "
   ]
  },
  {
   "cell_type": "code",
   "execution_count": 17,
   "metadata": {},
   "outputs": [
    {
     "data": {
      "text/plain": [
       "array([ 0.,  0.,  0.])"
      ]
     },
     "execution_count": 17,
     "metadata": {},
     "output_type": "execute_result"
    }
   ],
   "source": [
    "C.dot([1, 1, 1]) # por qué es 0?"
   ]
  },
  {
   "cell_type": "code",
   "execution_count": 19,
   "metadata": {},
   "outputs": [
    {
     "data": {
      "text/plain": [
       "array([ 0.,  0.,  0.])"
      ]
     },
     "execution_count": 19,
     "metadata": {},
     "output_type": "execute_result"
    }
   ],
   "source": [
    "C.dot([2, 2, 2]) # por qué es 0?"
   ]
  },
  {
   "cell_type": "code",
   "execution_count": 18,
   "metadata": {},
   "outputs": [
    {
     "data": {
      "text/plain": [
       "array([ 0.,  0.,  0.])"
      ]
     },
     "execution_count": 18,
     "metadata": {},
     "output_type": "execute_result"
    }
   ],
   "source": [
    "C.dot([6, 6, 6]) # por qué es 0?"
   ]
  },
  {
   "cell_type": "markdown",
   "metadata": {},
   "source": [
    "## $Cf = 0$\n",
    "\n",
    "Son todos los flujos que conservan la cantidad de metabolitos. Un flujo tal que $Cf \\neq 0$ tiene sentido? \n",
    "\n",
    "### Ejercicio: \n",
    "\n",
    "Estudien la red: \n",
    "\n",
    "<img src='redes/diamond.png' width=\"800\" height=\"800\">\n",
    "\n",
    "\n",
    "- Escriban la matriz $D$ de la red. La racción de la izquierda es $1$, la que sigue es $2$ \n",
    "- Qué piensan de estos flujos: \n",
    "    - $[2, 1, 1, 2, 1, 1]$\n",
    "    - $[1, 1, 1, 1, 0, 0]$ y $[0, -1, -1, 0, 1, 1]$ ?\n",
    " \n",
    "  Tienen algún significado físico? "
   ]
  },
  {
   "cell_type": "markdown",
   "metadata": {},
   "source": [
    "## Restricciones:\n",
    "\n",
    "EStudiamos redes metabólicas que satisfacen:\n",
    "\n",
    "- $Cf = 0$, solo los flujos que conservan la cantidad de metabolitos y\n",
    "- $ l_i < f_i < u_i$ para cualquier flujo. \n",
    "\n",
    "Célula tiene un volumen y tiene energía finita. \n",
    "\n",
    "$l_i$'s y $u_i$'s se calculan experimentalmente. \n"
   ]
  }
 ],
 "metadata": {
  "kernelspec": {
   "display_name": "Python 3",
   "language": "python",
   "name": "python3"
  },
  "language_info": {
   "codemirror_mode": {
    "name": "ipython",
    "version": 3
   },
   "file_extension": ".py",
   "mimetype": "text/x-python",
   "name": "python",
   "nbconvert_exporter": "python",
   "pygments_lexer": "ipython3",
   "version": "3.6.2"
  }
 },
 "nbformat": 4,
 "nbformat_minor": 2
}
