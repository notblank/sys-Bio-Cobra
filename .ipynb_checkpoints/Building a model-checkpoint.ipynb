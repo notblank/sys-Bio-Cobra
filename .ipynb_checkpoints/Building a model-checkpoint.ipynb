{
 "cells": [
  {
   "cell_type": "markdown",
   "metadata": {},
   "source": [
    "# Simple model\n",
    "\n",
    "We’ll use the ‘3OAS140’ reaction from the STM_1.0 model:\n",
    "\n",
    "1.0 malACP[c] + 1.0 h[c] + 1.0 ddcaACP[c] → 1.0 co2[c] + 1.0 ACP[c] + 1.0 3omrsACP[c]\n",
    "\n",
    "First, create the model and reaction."
   ]
  },
  {
   "cell_type": "code",
   "execution_count": 1,
   "metadata": {},
   "outputs": [],
   "source": [
    "from cobra import Model, Reaction, Metabolite\n",
    "\n",
    "model = Model(\"example_Model\")\n",
    "\n",
    "# Create a reaction\n",
    "reaction = Reaction('3OAS140')\n",
    "reaction.name = '3 oxoacyl acyl carrier protein synthase n C140 '\n",
    "reaction.subsystem = 'Cell Envelope Biosynthesis'\n",
    "\n",
    "reaction.lower_bound = 0.  # This is the default\n",
    "reaction.upper_bound = 1000.  # This is the default"
   ]
  },
  {
   "cell_type": "code",
   "execution_count": 155,
   "metadata": {},
   "outputs": [
    {
     "data": {
      "text/plain": [
       "[]"
      ]
     },
     "execution_count": 155,
     "metadata": {},
     "output_type": "execute_result"
    }
   ],
   "source": [
    "model.reactions"
   ]
  },
  {
   "cell_type": "code",
   "execution_count": 156,
   "metadata": {
    "collapsed": true
   },
   "outputs": [],
   "source": [
    "# 1.0 malACP[c] + 1.0 h[c] + 1.0 ddcaACP[c] →→ 1.0 co2[c] + 1.0 ACP[c] + 1.0 3omrsACP[c]\n",
    "\n",
    "ACP_c = Metabolite(\n",
    "    'ACP_c',\n",
    "    formula='C11H21N2O7PRS',\n",
    "    name='acyl-carrier-protein',\n",
    "    compartment='c')\n",
    "\n",
    "omrsACP_c = Metabolite(\n",
    "    '3omrsACP_c',\n",
    "    formula='C25H45N2O9PRS',\n",
    "    name='3-Oxotetradecanoyl-acyl-carrier-protein',\n",
    "    compartment='c')\n",
    "\n",
    "co2_c = Metabolite('co2_c', formula='CO2', name='CO2', compartment='c')\n",
    "\n",
    "malACP_c = Metabolite(\n",
    "    'malACP_c',\n",
    "    formula='C14H22N2O10PRS',\n",
    "    name='Malonyl-acyl-carrier-protein',\n",
    "    compartment='c')\n",
    "\n",
    "h_c = Metabolite('h_c', formula='H', name='H', compartment='c')\n",
    "\n",
    "ddcaACP_c = Metabolite(\n",
    "    'ddcaACP_c',\n",
    "    formula='C23H43N2O8PRS',\n",
    "    name='Dodecanoyl-ACP-n-C120ACP',\n",
    "    compartment='c')"
   ]
  },
  {
   "cell_type": "code",
   "execution_count": 20,
   "metadata": {},
   "outputs": [
    {
     "name": "stdout",
     "output_type": "stream",
     "text": [
      "[]\n",
      "3 oxoacyl acyl carrier protein synthase n C140 \n",
      "{}\n"
     ]
    }
   ],
   "source": [
    "print(model.metabolites)\n",
    "print(reaction.name)\n",
    "print(reaction.metabolites)"
   ]
  },
  {
   "cell_type": "code",
   "execution_count": 157,
   "metadata": {},
   "outputs": [
    {
     "data": {
      "text/plain": [
       "'ddcaACP_c + h_c + malACP_c --> 3omrsACP_c + ACP_c + co2_c'"
      ]
     },
     "execution_count": 157,
     "metadata": {},
     "output_type": "execute_result"
    }
   ],
   "source": [
    "reaction.add_metabolites({\n",
    "    malACP_c: -1.0,\n",
    "    h_c: -1.0,\n",
    "    ddcaACP_c: -1.0,\n",
    "    co2_c: 1.0,\n",
    "    ACP_c: 1.0,\n",
    "    omrsACP_c: 1.0\n",
    "})\n",
    "\n",
    "reaction.reaction\n",
    "\n",
    "# uses the id, not the variable name. "
   ]
  },
  {
   "cell_type": "code",
   "execution_count": 158,
   "metadata": {},
   "outputs": [
    {
     "data": {
      "text/plain": [
       "frozenset({<Gene STM2378 at 0x345bccdc88>, <Gene STM1197 at 0x345bccdc18>})"
      ]
     },
     "execution_count": 158,
     "metadata": {},
     "output_type": "execute_result"
    }
   ],
   "source": [
    "# We will assign the gene reaction rule string, which will automatically create the corresponding gene objects\n",
    "\n",
    "reaction.gene_reaction_rule = '( STM2378 or STM1197 )'\n",
    "reaction.genes"
   ]
  },
  {
   "cell_type": "code",
   "execution_count": 159,
   "metadata": {},
   "outputs": [
    {
     "name": "stdout",
     "output_type": "stream",
     "text": [
      "1 reaction\n",
      "6 metabolites\n",
      "2 genes\n"
     ]
    }
   ],
   "source": [
    "model.add_reactions([reaction])\n",
    "\n",
    "# Now there are things in the model\n",
    "print('%i reaction' % len(model.reactions))\n",
    "print('%i metabolites' % len(model.metabolites))\n",
    "print('%i genes' % len(model.genes))"
   ]
  },
  {
   "cell_type": "code",
   "execution_count": 160,
   "metadata": {},
   "outputs": [
    {
     "name": "stdout",
     "output_type": "stream",
     "text": [
      "Reactions\n",
      "---------\n",
      "3OAS140 : ddcaACP_c + h_c + malACP_c --> 3omrsACP_c + ACP_c + co2_c\n",
      "\n",
      "Metabolites\n",
      "-----------\n",
      "3omrsACP_c : C25H45N2O9PRS\n",
      "    ACP_c : C11H21N2O7PRS\n",
      " malACP_c : C14H22N2O10PRS\n",
      "ddcaACP_c : C23H43N2O8PRS\n",
      "      h_c : H\n",
      "    co2_c : CO2\n",
      "\n",
      "Genes\n",
      "-----\n",
      "STM2378 is associated with reactions: {3OAS140}\n",
      "STM1197 is associated with reactions: {3OAS140}\n"
     ]
    }
   ],
   "source": [
    "# Iterate through the the objects in the model\n",
    "print(\"Reactions\")\n",
    "print(\"---------\")\n",
    "for x in model.reactions:\n",
    "    print(\"%s : %s\" % (x.id, x.reaction))\n",
    "\n",
    "print(\"\")\n",
    "print(\"Metabolites\")\n",
    "print(\"-----------\")\n",
    "for x in model.metabolites:\n",
    "    print('%9s : %s' % (x.id, x.formula))\n",
    "\n",
    "print(\"\")\n",
    "print(\"Genes\")\n",
    "print(\"-----\")\n",
    "for x in model.genes:\n",
    "    associated_ids = (i.id for i in x.reactions)\n",
    "    print(\"%s is associated with reactions: %s\" %\n",
    "          (x.id, \"{\" + \", \".join(associated_ids) + \"}\"))"
   ]
  },
  {
   "cell_type": "code",
   "execution_count": 161,
   "metadata": {
    "collapsed": true
   },
   "outputs": [],
   "source": [
    "model.objective = '3OAS140' # name of the reaction"
   ]
  },
  {
   "cell_type": "markdown",
   "metadata": {
    "collapsed": true
   },
   "source": [
    "# Model from Reactions and Metabolites\n",
    "\n",
    "https://biotechnologyforbiofuels.biomedcentral.com/articles/10.1186/s13068-017-0856-3\n",
    "\n"
   ]
  },
  {
   "cell_type": "code",
   "execution_count": 162,
   "metadata": {
    "collapsed": true
   },
   "outputs": [],
   "source": [
    "model = Model('iCW773')"
   ]
  },
  {
   "cell_type": "code",
   "execution_count": 163,
   "metadata": {
    "collapsed": true
   },
   "outputs": [],
   "source": [
    "# https://pandas.pydata.org/pandas-docs/stable/10min.html\n",
    "import pandas as pd\n",
    "\n",
    "xls = pd.ExcelFile('reactions_and_metabolites_iCW773.xlsx')\n",
    "\n",
    "reactions = xls.parse('reactions')\n",
    "metabolites = xls.parse('metabolites')"
   ]
  },
  {
   "cell_type": "code",
   "execution_count": 164,
   "metadata": {
    "scrolled": false
   },
   "outputs": [
    {
     "data": {
      "text/html": [
       "<div>\n",
       "<table border=\"1\" class=\"dataframe\">\n",
       "  <thead>\n",
       "    <tr style=\"text-align: right;\">\n",
       "      <th></th>\n",
       "      <th>Abbreviation</th>\n",
       "      <th>Description</th>\n",
       "      <th>Reaction</th>\n",
       "      <th>GPR</th>\n",
       "      <th>Genes</th>\n",
       "      <th>Proteins</th>\n",
       "      <th>Subsystem</th>\n",
       "      <th>Reversible</th>\n",
       "      <th>Lower bound</th>\n",
       "      <th>Upper bound</th>\n",
       "      <th>Objective</th>\n",
       "      <th>Confidence Score</th>\n",
       "      <th>EC Number</th>\n",
       "      <th>Notes</th>\n",
       "      <th>References</th>\n",
       "      <th>Unnamed: 15</th>\n",
       "      <th>Unnamed: 16</th>\n",
       "    </tr>\n",
       "  </thead>\n",
       "  <tbody>\n",
       "    <tr>\n",
       "      <th>0</th>\n",
       "      <td>ALAR</td>\n",
       "      <td>alanine racemase</td>\n",
       "      <td>ala-L[c]  &lt;=&gt; ala-D[c]</td>\n",
       "      <td>cg0681</td>\n",
       "      <td>cg0681</td>\n",
       "      <td>alr</td>\n",
       "      <td>Alanine and Aspartate Metabolism</td>\n",
       "      <td>1</td>\n",
       "      <td>-1000.0</td>\n",
       "      <td>1000</td>\n",
       "      <td>0</td>\n",
       "      <td>0</td>\n",
       "      <td>5.1.1.1</td>\n",
       "      <td>KEGG</td>\n",
       "      <td>NaN</td>\n",
       "      <td>-0.0 ± 2.0</td>\n",
       "      <td>-0.0 ± 2.0</td>\n",
       "    </tr>\n",
       "    <tr>\n",
       "      <th>1</th>\n",
       "      <td>ALATA_L</td>\n",
       "      <td>L-alanine transaminase</td>\n",
       "      <td>glu-L[c] + pyr[c]  &lt;=&gt; ala-L[c] + akg[c]</td>\n",
       "      <td>cg3149</td>\n",
       "      <td>cg3149</td>\n",
       "      <td>NaN</td>\n",
       "      <td>Alanine and Aspartate Metabolism</td>\n",
       "      <td>1</td>\n",
       "      <td>-1000.0</td>\n",
       "      <td>1000</td>\n",
       "      <td>0</td>\n",
       "      <td>0</td>\n",
       "      <td>2.6.1.2</td>\n",
       "      <td>KEGG</td>\n",
       "      <td>NaN</td>\n",
       "      <td>NaN</td>\n",
       "      <td>NaN</td>\n",
       "    </tr>\n",
       "    <tr>\n",
       "      <th>2</th>\n",
       "      <td>ASNN</td>\n",
       "      <td>L-asparaginase</td>\n",
       "      <td>h2o[c] + asn-L[c]  -&gt; asp-L[c] + nh4[c]</td>\n",
       "      <td>cg2352</td>\n",
       "      <td>cg2352</td>\n",
       "      <td>ansA</td>\n",
       "      <td>Alanine and Aspartate Metabolism</td>\n",
       "      <td>0</td>\n",
       "      <td>0.0</td>\n",
       "      <td>1000</td>\n",
       "      <td>0</td>\n",
       "      <td>0</td>\n",
       "      <td>3.5.1.1</td>\n",
       "      <td>KEGG</td>\n",
       "      <td>NaN</td>\n",
       "      <td>-33.5 ± 7.0</td>\n",
       "      <td>-16.4 ± 7.0</td>\n",
       "    </tr>\n",
       "    <tr>\n",
       "      <th>3</th>\n",
       "      <td>ASNS1</td>\n",
       "      <td>asparagine synthase (glutamine-hydrolysing)</td>\n",
       "      <td>atp[c] + h2o[c] + asp-L[c] + gln-L[c]  -&gt; h[c]...</td>\n",
       "      <td>cg2410</td>\n",
       "      <td>cg2410</td>\n",
       "      <td>ltsA</td>\n",
       "      <td>Alanine and Aspartate Metabolism</td>\n",
       "      <td>0</td>\n",
       "      <td>0.0</td>\n",
       "      <td>1000</td>\n",
       "      <td>0</td>\n",
       "      <td>0</td>\n",
       "      <td>6.3.5.4</td>\n",
       "      <td>KEGG</td>\n",
       "      <td>NaN</td>\n",
       "      <td>-46.6 ± 7.2</td>\n",
       "      <td>-29.5 ± 7.2</td>\n",
       "    </tr>\n",
       "    <tr>\n",
       "      <th>4</th>\n",
       "      <td>ASNS2</td>\n",
       "      <td>asparagine synthetase</td>\n",
       "      <td>atp[c] + asp-L[c] + nh4[c]  -&gt; h[c] + amp[c] +...</td>\n",
       "      <td>cg2410</td>\n",
       "      <td>cg2410</td>\n",
       "      <td>NaN</td>\n",
       "      <td>Alanine and Aspartate Metabolism</td>\n",
       "      <td>0</td>\n",
       "      <td>0.0</td>\n",
       "      <td>1000</td>\n",
       "      <td>0</td>\n",
       "      <td>0</td>\n",
       "      <td>6.3.1.1</td>\n",
       "      <td>KEGG</td>\n",
       "      <td>NaN</td>\n",
       "      <td>-18.1 ± 7.1</td>\n",
       "      <td>-18.1 ± 7.1</td>\n",
       "    </tr>\n",
       "  </tbody>\n",
       "</table>\n",
       "</div>"
      ],
      "text/plain": [
       "  Abbreviation                                  Description  \\\n",
       "0         ALAR                             alanine racemase   \n",
       "1      ALATA_L                       L-alanine transaminase   \n",
       "2         ASNN                               L-asparaginase   \n",
       "3        ASNS1  asparagine synthase (glutamine-hydrolysing)   \n",
       "4        ASNS2                        asparagine synthetase   \n",
       "\n",
       "                                            Reaction     GPR   Genes Proteins  \\\n",
       "0                            ala-L[c]  <=> ala-D[c]   cg0681  cg0681      alr   \n",
       "1          glu-L[c] + pyr[c]  <=> ala-L[c] + akg[c]   cg3149  cg3149      NaN   \n",
       "2           h2o[c] + asn-L[c]  -> asp-L[c] + nh4[c]   cg2352  cg2352     ansA   \n",
       "3  atp[c] + h2o[c] + asp-L[c] + gln-L[c]  -> h[c]...  cg2410  cg2410     ltsA   \n",
       "4  atp[c] + asp-L[c] + nh4[c]  -> h[c] + amp[c] +...  cg2410  cg2410      NaN   \n",
       "\n",
       "                          Subsystem  Reversible  Lower bound  Upper bound  \\\n",
       "0  Alanine and Aspartate Metabolism           1      -1000.0         1000   \n",
       "1  Alanine and Aspartate Metabolism           1      -1000.0         1000   \n",
       "2  Alanine and Aspartate Metabolism           0          0.0         1000   \n",
       "3  Alanine and Aspartate Metabolism           0          0.0         1000   \n",
       "4  Alanine and Aspartate Metabolism           0          0.0         1000   \n",
       "\n",
       "   Objective  Confidence Score EC Number Notes References  Unnamed: 15  \\\n",
       "0          0                 0   5.1.1.1  KEGG        NaN   -0.0 ± 2.0   \n",
       "1          0                 0   2.6.1.2  KEGG        NaN          NaN   \n",
       "2          0                 0   3.5.1.1  KEGG        NaN  -33.5 ± 7.0   \n",
       "3          0                 0   6.3.5.4  KEGG        NaN  -46.6 ± 7.2   \n",
       "4          0                 0   6.3.1.1  KEGG        NaN  -18.1 ± 7.1   \n",
       "\n",
       "   Unnamed: 16  \n",
       "0   -0.0 ± 2.0  \n",
       "1          NaN  \n",
       "2  -16.4 ± 7.0  \n",
       "3  -29.5 ± 7.2  \n",
       "4  -18.1 ± 7.1  "
      ]
     },
     "execution_count": 164,
     "metadata": {},
     "output_type": "execute_result"
    }
   ],
   "source": [
    "reactions.head()"
   ]
  },
  {
   "cell_type": "code",
   "execution_count": 165,
   "metadata": {
    "collapsed": true
   },
   "outputs": [],
   "source": [
    "temp_reaction = Reaction(reactions['Abbreviation'][0])\n",
    "temp_reaction.name = reactions['Description'][0]\n",
    "temp_reaction.subsystem = reactions['Subsystem'][0]\n",
    "\n",
    "temp_reaction.lower_bound = reactions['Lower bound'][0]\n",
    "temp_reaction.upper_bound = reactions['Upper bound'][0]"
   ]
  },
  {
   "cell_type": "code",
   "execution_count": 166,
   "metadata": {},
   "outputs": [
    {
     "data": {
      "text/plain": [
       "'alanine racemase'"
      ]
     },
     "execution_count": 166,
     "metadata": {},
     "output_type": "execute_result"
    }
   ],
   "source": [
    "temp_reaction.lower_bound\n",
    "temp_reaction.name"
   ]
  },
  {
   "cell_type": "code",
   "execution_count": 167,
   "metadata": {},
   "outputs": [
    {
     "data": {
      "text/plain": [
       "frozenset({<Gene cg0681 at 0x345bd39780>})"
      ]
     },
     "execution_count": 167,
     "metadata": {},
     "output_type": "execute_result"
    }
   ],
   "source": [
    "# The GPR is stored as the gene_reaction_rule for a Reaction object as a string.\n",
    "temp_reaction.gene_reaction_rule = reactions['GPR'][0]\n",
    "temp_reaction.genes"
   ]
  },
  {
   "cell_type": "code",
   "execution_count": 168,
   "metadata": {},
   "outputs": [
    {
     "data": {
      "text/html": [
       "<div>\n",
       "<table border=\"1\" class=\"dataframe\">\n",
       "  <thead>\n",
       "    <tr style=\"text-align: right;\">\n",
       "      <th></th>\n",
       "      <th>Metabolite name</th>\n",
       "      <th>Metabolite description</th>\n",
       "      <th>Metabolite neutral formula</th>\n",
       "      <th>Metabolite charged formula</th>\n",
       "      <th>Metabolite charge</th>\n",
       "      <th>Metabolite Compartment</th>\n",
       "      <th>Metabolite KeggID</th>\n",
       "      <th>Metabolite PubChemID</th>\n",
       "      <th>Metabolite CheBI ID</th>\n",
       "      <th>Metabolite Inchi String</th>\n",
       "      <th>Metabolite Smile</th>\n",
       "    </tr>\n",
       "  </thead>\n",
       "  <tbody>\n",
       "    <tr>\n",
       "      <th>0</th>\n",
       "      <td>10fthf</td>\n",
       "      <td>10-Formyltetrahydrofolate</td>\n",
       "      <td>C20H21N7O7</td>\n",
       "      <td>NaN</td>\n",
       "      <td>-2</td>\n",
       "      <td>NaN</td>\n",
       "      <td>NaN</td>\n",
       "      <td>NaN</td>\n",
       "      <td>NaN</td>\n",
       "      <td>NaN</td>\n",
       "      <td>NaN</td>\n",
       "    </tr>\n",
       "    <tr>\n",
       "      <th>1</th>\n",
       "      <td>13dpg</td>\n",
       "      <td>3-Phospho-D-glyceroyl phosphate</td>\n",
       "      <td>C3H4O10P2</td>\n",
       "      <td>NaN</td>\n",
       "      <td>-4</td>\n",
       "      <td>NaN</td>\n",
       "      <td>NaN</td>\n",
       "      <td>NaN</td>\n",
       "      <td>NaN</td>\n",
       "      <td>NaN</td>\n",
       "      <td>NaN</td>\n",
       "    </tr>\n",
       "    <tr>\n",
       "      <th>2</th>\n",
       "      <td>14dhncoa</td>\n",
       "      <td>14dhncoa</td>\n",
       "      <td>C32H38N7O19P3S</td>\n",
       "      <td>NaN</td>\n",
       "      <td>0</td>\n",
       "      <td>NaN</td>\n",
       "      <td>NaN</td>\n",
       "      <td>NaN</td>\n",
       "      <td>NaN</td>\n",
       "      <td>NaN</td>\n",
       "      <td>NaN</td>\n",
       "    </tr>\n",
       "    <tr>\n",
       "      <th>3</th>\n",
       "      <td>1ag3p-SC</td>\n",
       "      <td>1ag3p-SC</td>\n",
       "      <td>C20.1H38.104O7P</td>\n",
       "      <td>NaN</td>\n",
       "      <td>-200</td>\n",
       "      <td>NaN</td>\n",
       "      <td>NaN</td>\n",
       "      <td>NaN</td>\n",
       "      <td>NaN</td>\n",
       "      <td>NaN</td>\n",
       "      <td>NaN</td>\n",
       "    </tr>\n",
       "    <tr>\n",
       "      <th>4</th>\n",
       "      <td>1ddecg3p</td>\n",
       "      <td>1-dodecanoyl-sn-glycerol 3-phosphate</td>\n",
       "      <td>C15H29O7P1</td>\n",
       "      <td>NaN</td>\n",
       "      <td>-2</td>\n",
       "      <td>NaN</td>\n",
       "      <td>NaN</td>\n",
       "      <td>NaN</td>\n",
       "      <td>NaN</td>\n",
       "      <td>NaN</td>\n",
       "      <td>NaN</td>\n",
       "    </tr>\n",
       "  </tbody>\n",
       "</table>\n",
       "</div>"
      ],
      "text/plain": [
       "  Metabolite name                Metabolite description  \\\n",
       "0          10fthf             10-Formyltetrahydrofolate   \n",
       "1           13dpg       3-Phospho-D-glyceroyl phosphate   \n",
       "2        14dhncoa                              14dhncoa   \n",
       "3        1ag3p-SC                              1ag3p-SC   \n",
       "4        1ddecg3p  1-dodecanoyl-sn-glycerol 3-phosphate   \n",
       "\n",
       "  Metabolite neutral formula  Metabolite charged formula  Metabolite charge  \\\n",
       "0                 C20H21N7O7                         NaN                 -2   \n",
       "1                  C3H4O10P2                         NaN                 -4   \n",
       "2             C32H38N7O19P3S                         NaN                  0   \n",
       "3            C20.1H38.104O7P                         NaN               -200   \n",
       "4                 C15H29O7P1                         NaN                 -2   \n",
       "\n",
       "   Metabolite Compartment  Metabolite KeggID  Metabolite PubChemID  \\\n",
       "0                     NaN                NaN                   NaN   \n",
       "1                     NaN                NaN                   NaN   \n",
       "2                     NaN                NaN                   NaN   \n",
       "3                     NaN                NaN                   NaN   \n",
       "4                     NaN                NaN                   NaN   \n",
       "\n",
       "   Metabolite CheBI ID  Metabolite Inchi String  Metabolite Smile  \n",
       "0                  NaN                      NaN               NaN  \n",
       "1                  NaN                      NaN               NaN  \n",
       "2                  NaN                      NaN               NaN  \n",
       "3                  NaN                      NaN               NaN  \n",
       "4                  NaN                      NaN               NaN  "
      ]
     },
     "execution_count": 168,
     "metadata": {},
     "output_type": "execute_result"
    }
   ],
   "source": [
    "metabolites.head()"
   ]
  },
  {
   "cell_type": "code",
   "execution_count": 169,
   "metadata": {},
   "outputs": [
    {
     "data": {
      "text/plain": [
       "True"
      ]
     },
     "execution_count": 169,
     "metadata": {},
     "output_type": "execute_result"
    }
   ],
   "source": [
    "# All compartments are missing!\n",
    "metabolites['Metabolite Compartment'].isnull().all()"
   ]
  },
  {
   "cell_type": "code",
   "execution_count": 170,
   "metadata": {},
   "outputs": [
    {
     "data": {
      "text/plain": [
       "'10fthf'"
      ]
     },
     "execution_count": 170,
     "metadata": {},
     "output_type": "execute_result"
    }
   ],
   "source": [
    "Id = metabolites['Metabolite name'][0]\n",
    "name = metabolites['Metabolite description'][0]\n",
    "formula = metabolites['Metabolite neutral formula'][0]\n",
    "#compartment = metabolites['Metabolite Compartment'][0]\n",
    "\n",
    "temp_metabolite = Metabolite(\n",
    "    Id,\n",
    "    formula = formula,\n",
    "    name = name)\n",
    "\n",
    "temp_metabolite.id"
   ]
  },
  {
   "cell_type": "code",
   "execution_count": 173,
   "metadata": {
    "collapsed": true
   },
   "outputs": [],
   "source": [
    "model.add_metabolites(temp_metabolite)"
   ]
  },
  {
   "cell_type": "code",
   "execution_count": 175,
   "metadata": {},
   "outputs": [
    {
     "name": "stdout",
     "output_type": "stream",
     "text": [
      "ala-L[c]  <=> ala-D[c] \n",
      "ala-L  <=> ala-D \n"
     ]
    }
   ],
   "source": [
    "react0 = reactions['Reaction'][0]\n",
    "print(react0)\n",
    "react1 = react0.replace('[c]', '') # get rid off [c] term\n",
    "react2 = react1.replace('[e]', '') # get rid off [e] term\n",
    "print(react2)"
   ]
  },
  {
   "cell_type": "code",
   "execution_count": 208,
   "metadata": {},
   "outputs": [
    {
     "data": {
      "text/plain": [
       "True"
      ]
     },
     "execution_count": 208,
     "metadata": {},
     "output_type": "execute_result"
    }
   ],
   "source": [
    "# Empty GPR\n",
    "reactionsGPR = reactions['GPR'].fillna('666')\n",
    "reactionsGPR[10] == '666'"
   ]
  }
 ],
 "metadata": {
  "anaconda-cloud": {},
  "kernelspec": {
   "display_name": "Python 3",
   "language": "python",
   "name": "python3"
  },
  "language_info": {
   "codemirror_mode": {
    "name": "ipython",
    "version": 3
   },
   "file_extension": ".py",
   "mimetype": "text/x-python",
   "name": "python",
   "nbconvert_exporter": "python",
   "pygments_lexer": "ipython3",
   "version": "3.6.2"
  }
 },
 "nbformat": 4,
 "nbformat_minor": 1
}
